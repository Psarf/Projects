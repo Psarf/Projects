{
 "cells": [
  {
   "cell_type": "markdown",
   "metadata": {},
   "source": [
    "# Course : big data and distributed systems\n",
    "\n",
    "This notebook runned on a ECR instance using AWS for students.\n",
    "\n",
    "### Dataset : \n",
    "Link to the data : https://www.kaggle.com/c/idc-big-data-platforms-2022-ml-competition/data\n",
    "\n",
    "The dataset contains historical data about Uber rides in New York City. It can be loaded from here . The total size is about 1.5GB. The dataset has 7 columns for features (independent variables) + 1 column used for the label (dependent variable):\n",
    "- Key - identifying each row in both the training and test sets. Unique integer. Required in your submission CSV. Not necessary in the training set, but could be useful to simulate a 'submission file' while doing cross-validation.\n",
    "- Pickup_datetime is a timestamp value indicating when the Uber ride started.\n",
    "- Pickup_longitude, Pickup_latitude, Dropoff_longitude, Dropoff_latitude - floats for longitude and latitude coordinates of where the Uber ride started and ended.\n",
    "- Passenger_count - integer indicating the number of passengers.\n",
    "- Fare ($) - float indicating the cost of the ride, used to create the label (class) for the classification model, or as the target for the regression model.\n",
    "\n",
    "\n",
    "In this project we will preprocess the data and in order to build a classification machine learning model that tries to predict if the fare is lower or higher then $10. After training the model, given a set of (previously unseen) test data (w/o the fare) we want to predict (classify) for each row if the fare is < 10 or >= 10.\n"
   ]
  },
  {
   "cell_type": "markdown",
   "metadata": {},
   "source": [
    "## 1 - Importing the data, setting spark and libraries "
   ]
  },
  {
   "cell_type": "code",
   "execution_count": 1,
   "metadata": {
    "execution": {
     "iopub.execute_input": "2022-02-21T14:24:25.404636Z",
     "iopub.status.busy": "2022-02-21T14:24:25.404341Z",
     "iopub.status.idle": "2022-02-21T14:25:04.995937Z",
     "shell.execute_reply": "2022-02-21T14:25:04.994645Z",
     "shell.execute_reply.started": "2022-02-21T14:24:25.404599Z"
    },
    "tags": []
   },
   "outputs": [
    {
     "data": {
      "application/vnd.jupyter.widget-view+json": {
       "model_id": "e0f7c4910aa14247b6051ac123716d9c",
       "version_major": 2,
       "version_minor": 0
      },
      "text/plain": [
       "VBox()"
      ]
     },
     "metadata": {},
     "output_type": "display_data"
    },
    {
     "name": "stdout",
     "output_type": "stream",
     "text": [
      "Starting Spark application\n"
     ]
    },
    {
     "data": {
      "text/html": [
       "<table>\n",
       "<tr><th>ID</th><th>YARN Application ID</th><th>Kind</th><th>State</th><th>Spark UI</th><th>Driver log</th><th>Current session?</th></tr><tr><td>1</td><td>application_1645451490436_0002</td><td>pyspark</td><td>idle</td><td><a target=\"_blank\" href=\"http://ip-172-31-0-211.ec2.internal:20888/proxy/application_1645451490436_0002/\">Link</a></td><td><a target=\"_blank\" href=\"http://ip-172-31-9-93.ec2.internal:8042/node/containerlogs/container_1645451490436_0002_01_000001/livy\">Link</a></td><td>✔</td></tr></table>"
      ],
      "text/plain": [
       "<IPython.core.display.HTML object>"
      ]
     },
     "metadata": {},
     "output_type": "display_data"
    },
    {
     "data": {
      "application/vnd.jupyter.widget-view+json": {
       "model_id": "",
       "version_major": 2,
       "version_minor": 0
      },
      "text/plain": [
       "FloatProgress(value=0.0, bar_style='info', description='Progress:', layout=Layout(height='25px', width='50%'),…"
      ]
     },
     "metadata": {},
     "output_type": "display_data"
    },
    {
     "name": "stdout",
     "output_type": "stream",
     "text": [
      "SparkSession available as 'spark'.\n"
     ]
    },
    {
     "data": {
      "application/vnd.jupyter.widget-view+json": {
       "model_id": "",
       "version_major": 2,
       "version_minor": 0
      },
      "text/plain": [
       "FloatProgress(value=0.0, bar_style='info', description='Progress:', layout=Layout(height='25px', width='50%'),…"
      ]
     },
     "metadata": {},
     "output_type": "display_data"
    }
   ],
   "source": [
    "import findspark\n",
    "findspark.init()\n",
    "import pyspark\n",
    "from pyspark.sql import SparkSession\n",
    "from pyspark.context import SparkContext\n",
    "from pyspark.sql.functions import *\n",
    "from pyspark.sql.types import *\n",
    "from datetime import date, timedelta, datetime\n",
    "import time\n",
    "import pyspark\n",
    "\n"
   ]
  },
  {
   "cell_type": "code",
   "execution_count": 2,
   "metadata": {},
   "outputs": [],
   "source": [
    "# #Initialization of a Spark Session\n",
    "# sc = SparkSession.builder.appName(\"PySparkExample\")\\\n",
    "#     .config (\"spark.sql.shuffle.partitions\", \"50\") \\\n",
    "#     .config(\"spark.driver.maxResultSize\",\"8g\") \\\n",
    "#     .config ('spark.sql.execution.arrow.pyspark.enabled', \"true\")\\\n",
    "#     .getOrCreate()"
   ]
  },
  {
   "cell_type": "code",
   "execution_count": 2,
   "metadata": {
    "execution": {
     "iopub.execute_input": "2022-02-21T14:25:04.998686Z",
     "iopub.status.busy": "2022-02-21T14:25:04.998231Z",
     "iopub.status.idle": "2022-02-21T14:25:05.263653Z",
     "shell.execute_reply": "2022-02-21T14:25:05.262413Z",
     "shell.execute_reply.started": "2022-02-21T14:25:04.998645Z"
    },
    "tags": []
   },
   "outputs": [
    {
     "data": {
      "application/vnd.jupyter.widget-view+json": {
       "model_id": "f1d4c6f3975747f1bcf46b0ac8ac49cd",
       "version_major": 2,
       "version_minor": 0
      },
      "text/plain": [
       "VBox()"
      ]
     },
     "metadata": {},
     "output_type": "display_data"
    },
    {
     "data": {
      "application/vnd.jupyter.widget-view+json": {
       "model_id": "",
       "version_major": 2,
       "version_minor": 0
      },
      "text/plain": [
       "FloatProgress(value=0.0, bar_style='info', description='Progress:', layout=Layout(height='25px', width='50%'),…"
      ]
     },
     "metadata": {},
     "output_type": "display_data"
    }
   ],
   "source": [
    "from pyspark.sql import SparkSession, SQLContext\n",
    "from pyspark import SparkConf, SparkContext\n",
    "conf = SparkConf()\n",
    "conf.set(\"spark.executor.memory\", \"12g\")\n",
    "conf.set(\"spark.driver.memory\", \"12g\")\n",
    "spark_context = SparkContext.getOrCreate(conf)\n",
    "sc = SparkSession(spark_context)"
   ]
  },
  {
   "cell_type": "code",
   "execution_count": 3,
   "metadata": {
    "execution": {
     "iopub.execute_input": "2022-02-21T14:25:05.265754Z",
     "iopub.status.busy": "2022-02-21T14:25:05.265387Z",
     "iopub.status.idle": "2022-02-21T14:25:27.138604Z",
     "shell.execute_reply": "2022-02-21T14:25:27.137277Z",
     "shell.execute_reply.started": "2022-02-21T14:25:05.265711Z"
    },
    "tags": []
   },
   "outputs": [
    {
     "data": {
      "application/vnd.jupyter.widget-view+json": {
       "model_id": "faa7287512d64ea0940a6571ad722741",
       "version_major": 2,
       "version_minor": 0
      },
      "text/plain": [
       "VBox()"
      ]
     },
     "metadata": {},
     "output_type": "display_data"
    },
    {
     "data": {
      "application/vnd.jupyter.widget-view+json": {
       "model_id": "",
       "version_major": 2,
       "version_minor": 0
      },
      "text/plain": [
       "FloatProgress(value=0.0, bar_style='info', description='Progress:', layout=Layout(height='25px', width='50%'),…"
      ]
     },
     "metadata": {},
     "output_type": "display_data"
    }
   ],
   "source": [
    "#Importing the data \n",
    "\n",
    "# path='idc-big-data-platforms-2022-ml-competition/idc_train.csv'\n",
    "# data = sc.read.csv(path, inferSchema=True, header=True)\n",
    "\n",
    "# path='s3://datakaggle/idc_train.csv'\n",
    "# data = sc.read.csv(path, inferSchema=True, header=True)\n",
    "\n",
    "path = 's3://datakaggle/cleen_data_2m.csv'\n",
    "clean_data = sc.read.csv(path, inferSchema=True, header=True)\n",
    "\n",
    "\n",
    "\n",
    "# testpath='idc-big-data-platforms-2022-ml-competition/idc_test.csv'\n",
    "# test_set = sc.read.csv(testpath, inferSchema=True, header=True)\n"
   ]
  },
  {
   "cell_type": "code",
   "execution_count": 5,
   "metadata": {
    "execution": {
     "iopub.execute_input": "2022-02-20T22:39:53.098332Z",
     "iopub.status.busy": "2022-02-20T22:39:53.097926Z",
     "iopub.status.idle": "2022-02-20T22:39:53.353075Z",
     "shell.execute_reply": "2022-02-20T22:39:53.352277Z",
     "shell.execute_reply.started": "2022-02-20T22:39:53.098300Z"
    }
   },
   "outputs": [
    {
     "data": {
      "application/vnd.jupyter.widget-view+json": {
       "model_id": "145df1b4b17344999f56d6367aed737a",
       "version_major": 2,
       "version_minor": 0
      },
      "text/plain": [
       "VBox()"
      ]
     },
     "metadata": {},
     "output_type": "display_data"
    },
    {
     "data": {
      "application/vnd.jupyter.widget-view+json": {
       "model_id": "",
       "version_major": 2,
       "version_minor": 0
      },
      "text/plain": [
       "FloatProgress(value=0.0, bar_style='info', description='Progress:', layout=Layout(height='25px', width='50%'),…"
      ]
     },
     "metadata": {},
     "output_type": "display_data"
    },
    {
     "name": "stdout",
     "output_type": "stream",
     "text": [
      "root\n",
      " |-- key: integer (nullable = true)\n",
      " |-- fare_amount: double (nullable = true)\n",
      " |-- pickup_datetime: string (nullable = true)\n",
      " |-- pickup_longitude: double (nullable = true)\n",
      " |-- pickup_latitude: double (nullable = true)\n",
      " |-- dropoff_longitude: double (nullable = true)\n",
      " |-- dropoff_latitude: double (nullable = true)\n",
      " |-- passenger_count: integer (nullable = true)"
     ]
    }
   ],
   "source": [
    "#Cheking the type of each collumn \n",
    "data.printSchema()"
   ]
  },
  {
   "cell_type": "markdown",
   "metadata": {},
   "source": [
    "## Data preparation\n",
    "\n",
    "### In this part we will prepare the data, handle Na's values, outliers etc.\n",
    "\n",
    "#### Data preparation stage will be done on all the 20 000 000 rows."
   ]
  },
  {
   "cell_type": "code",
   "execution_count": 5,
   "metadata": {
    "execution": {
     "iopub.execute_input": "2022-02-20T22:40:40.244604Z",
     "iopub.status.busy": "2022-02-20T22:40:40.244363Z",
     "iopub.status.idle": "2022-02-20T22:40:40.554495Z",
     "shell.execute_reply": "2022-02-20T22:40:40.553526Z",
     "shell.execute_reply.started": "2022-02-20T22:40:40.244575Z"
    },
    "tags": []
   },
   "outputs": [],
   "source": [
    "#Casting date from string to datetime \n",
    "from pyspark.sql import functions as F\n",
    "from pyspark.sql.functions import to_timestamp\n",
    "\n",
    "df = data.withColumn('pickup_date_time', F.to_timestamp(data.pickup_datetime)) #,'yyyy-MM-dd HH:mm:ss'))\n",
    "df = df.drop('pickup_datetime') #remove the old column"
   ]
  },
  {
   "cell_type": "code",
   "execution_count": 14,
   "metadata": {
    "execution": {
     "iopub.execute_input": "2022-02-20T22:40:41.255044Z",
     "iopub.status.busy": "2022-02-20T22:40:41.254764Z",
     "iopub.status.idle": "2022-02-20T22:40:41.563236Z",
     "shell.execute_reply": "2022-02-20T22:40:41.562364Z",
     "shell.execute_reply.started": "2022-02-20T22:40:41.254978Z"
    },
    "tags": []
   },
   "outputs": [
    {
     "data": {
      "application/vnd.jupyter.widget-view+json": {
       "model_id": "c01e4770436e4f0ca70044ecea1fcfb6",
       "version_major": 2,
       "version_minor": 0
      },
      "text/plain": [
       "VBox()"
      ]
     },
     "metadata": {},
     "output_type": "display_data"
    },
    {
     "data": {
      "application/vnd.jupyter.widget-view+json": {
       "model_id": "",
       "version_major": 2,
       "version_minor": 0
      },
      "text/plain": [
       "FloatProgress(value=0.0, bar_style='info', description='Progress:', layout=Layout(height='25px', width='50%'),…"
      ]
     },
     "metadata": {},
     "output_type": "display_data"
    },
    {
     "name": "stdout",
     "output_type": "stream",
     "text": [
      "root\n",
      " |-- key: integer (nullable = true)\n",
      " |-- fare_amount: double (nullable = true)\n",
      " |-- pickup_longitude: double (nullable = true)\n",
      " |-- pickup_latitude: double (nullable = true)\n",
      " |-- dropoff_longitude: double (nullable = true)\n",
      " |-- dropoff_latitude: double (nullable = true)\n",
      " |-- passenger_count: integer (nullable = true)\n",
      " |-- pickup_date_time: timestamp (nullable = true)"
     ]
    }
   ],
   "source": [
    "#Checking the casting worked well. \n",
    "df.printSchema()"
   ]
  },
  {
   "cell_type": "code",
   "execution_count": 15,
   "metadata": {
    "execution": {
     "iopub.execute_input": "2022-02-20T22:40:41.758331Z",
     "iopub.status.busy": "2022-02-20T22:40:41.758089Z",
     "iopub.status.idle": "2022-02-20T22:40:42.799684Z",
     "shell.execute_reply": "2022-02-20T22:40:42.799050Z",
     "shell.execute_reply.started": "2022-02-20T22:40:41.758303Z"
    },
    "tags": []
   },
   "outputs": [
    {
     "data": {
      "application/vnd.jupyter.widget-view+json": {
       "model_id": "cdfa6af5fc9248aeb6f77f073ea8b567",
       "version_major": 2,
       "version_minor": 0
      },
      "text/plain": [
       "VBox()"
      ]
     },
     "metadata": {},
     "output_type": "display_data"
    },
    {
     "data": {
      "application/vnd.jupyter.widget-view+json": {
       "model_id": "",
       "version_major": 2,
       "version_minor": 0
      },
      "text/plain": [
       "FloatProgress(value=0.0, bar_style='info', description='Progress:', layout=Layout(height='25px', width='50%'),…"
      ]
     },
     "metadata": {},
     "output_type": "display_data"
    },
    {
     "name": "stdout",
     "output_type": "stream",
     "text": [
      "+---+-----------+----------------+---------------+-----------------+----------------+---------------+-------------------+\n",
      "|key|fare_amount|pickup_longitude|pickup_latitude|dropoff_longitude|dropoff_latitude|passenger_count|   pickup_date_time|\n",
      "+---+-----------+----------------+---------------+-----------------+----------------+---------------+-------------------+\n",
      "|  1|        8.5|       -73.96539|      40.768574|       -73.998184|       40.761074|              1|2010-03-30 19:27:00|\n",
      "|  2|      35.47|      -73.967354|      40.769295|       -73.967285|       40.802975|              1|2010-08-10 20:02:03|\n",
      "|  3|        6.1|       -73.96884|      40.758278|       -73.961395|       40.768566|              1|2011-03-13 13:24:00|\n",
      "|  4|        9.7|       -73.98218|      40.774796|        -73.95431|        40.78315|              1|2011-06-11 19:45:14|\n",
      "|  5|        7.7|        -73.9778|       40.74228|       -73.998634|       40.734917|              1|2011-12-03 13:16:02|\n",
      "+---+-----------+----------------+---------------+-----------------+----------------+---------------+-------------------+\n",
      "only showing top 5 rows"
     ]
    }
   ],
   "source": [
    "#Showing the first 20 rows has been hashtagged for runtime purpose\n",
    "# df.show(5)"
   ]
  },
  {
   "cell_type": "code",
   "execution_count": 6,
   "metadata": {
    "execution": {
     "iopub.execute_input": "2022-02-20T22:40:42.803812Z",
     "iopub.status.busy": "2022-02-20T22:40:42.803629Z",
     "iopub.status.idle": "2022-02-20T22:40:43.079658Z",
     "shell.execute_reply": "2022-02-20T22:40:43.078873Z",
     "shell.execute_reply.started": "2022-02-20T22:40:42.803789Z"
    },
    "tags": []
   },
   "outputs": [],
   "source": [
    "#Creating a shape function for spark \n",
    "def sparkShape(dataFrame):\n",
    "    return (dataFrame.count(), len(dataFrame.columns))\n",
    "pyspark.sql.dataframe.DataFrame.shape = sparkShape\n"
   ]
  },
  {
   "cell_type": "code",
   "execution_count": 17,
   "metadata": {
    "execution": {
     "iopub.execute_input": "2022-02-20T22:40:43.081285Z",
     "iopub.status.busy": "2022-02-20T22:40:43.081109Z",
     "iopub.status.idle": "2022-02-20T22:40:53.255441Z",
     "shell.execute_reply": "2022-02-20T22:40:53.254779Z",
     "shell.execute_reply.started": "2022-02-20T22:40:43.081262Z"
    },
    "tags": []
   },
   "outputs": [
    {
     "data": {
      "application/vnd.jupyter.widget-view+json": {
       "model_id": "326421d671e34f869e1b1d1f22d2354f",
       "version_major": 2,
       "version_minor": 0
      },
      "text/plain": [
       "VBox()"
      ]
     },
     "metadata": {},
     "output_type": "display_data"
    },
    {
     "data": {
      "application/vnd.jupyter.widget-view+json": {
       "model_id": "",
       "version_major": 2,
       "version_minor": 0
      },
      "text/plain": [
       "FloatProgress(value=0.0, bar_style='info', description='Progress:', layout=Layout(height='25px', width='50%'),…"
      ]
     },
     "metadata": {},
     "output_type": "display_data"
    },
    {
     "name": "stdout",
     "output_type": "stream",
     "text": [
      "df shape (19990000, 8)"
     ]
    }
   ],
   "source": [
    "# #has been hashtagged for runtime purpose\n",
    "# print('df shape',df.shape())"
   ]
  },
  {
   "cell_type": "code",
   "execution_count": 7,
   "metadata": {
    "execution": {
     "iopub.execute_input": "2022-02-20T22:40:53.259846Z",
     "iopub.status.busy": "2022-02-20T22:40:53.259656Z",
     "iopub.status.idle": "2022-02-20T22:40:53.562486Z",
     "shell.execute_reply": "2022-02-20T22:40:53.561730Z",
     "shell.execute_reply.started": "2022-02-20T22:40:53.259821Z"
    },
    "tags": []
   },
   "outputs": [],
   "source": [
    "#Function that is counting missing values in the differents columns\n",
    "def count_missings(spark_df,sort=True):\n",
    "    \"\"\"\n",
    "    Counts number of nulls and nans in each column\n",
    "    \"\"\"\n",
    "    df = spark_df.select([F.count(F.when(F.isnan(c) | F.isnull(c), c)).alias(c) for (c,c_type) in spark_df.dtypes if c_type not in ('timestamp', 'string', 'date')]).toPandas()\n",
    "\n",
    "    if len(df) == 0:\n",
    "        print(\"There are no any missing values!\")\n",
    "        return None\n",
    "\n",
    "    if sort:\n",
    "        return df.rename(index={0: 'count'}).T.sort_values(\"count\",ascending=False)\n",
    "\n",
    "    return df"
   ]
  },
  {
   "cell_type": "code",
   "execution_count": 19,
   "metadata": {
    "execution": {
     "iopub.execute_input": "2022-02-20T22:40:53.564127Z",
     "iopub.status.busy": "2022-02-20T22:40:53.563853Z",
     "iopub.status.idle": "2022-02-20T22:41:13.306403Z",
     "shell.execute_reply": "2022-02-20T22:41:13.305539Z",
     "shell.execute_reply.started": "2022-02-20T22:40:53.564091Z"
    },
    "tags": []
   },
   "outputs": [
    {
     "data": {
      "application/vnd.jupyter.widget-view+json": {
       "model_id": "82a0614056bc4e0f880dc63e22cb83ea",
       "version_major": 2,
       "version_minor": 0
      },
      "text/plain": [
       "VBox()"
      ]
     },
     "metadata": {},
     "output_type": "display_data"
    },
    {
     "data": {
      "application/vnd.jupyter.widget-view+json": {
       "model_id": "",
       "version_major": 2,
       "version_minor": 0
      },
      "text/plain": [
       "FloatProgress(value=0.0, bar_style='info', description='Progress:', layout=Layout(height='25px', width='50%'),…"
      ]
     },
     "metadata": {},
     "output_type": "display_data"
    },
    {
     "name": "stdout",
     "output_type": "stream",
     "text": [
      "                   count\n",
      "dropoff_longitude    137\n",
      "dropoff_latitude     137\n",
      "key                    0\n",
      "fare_amount            0\n",
      "pickup_longitude       0\n",
      "pickup_latitude        0\n",
      "passenger_count        0"
     ]
    }
   ],
   "source": [
    "#Checking for Na's \n",
    "\n",
    "count_missings(df)"
   ]
  },
  {
   "cell_type": "markdown",
   "metadata": {},
   "source": [
    "#### Dropping the few Na's we have"
   ]
  },
  {
   "cell_type": "code",
   "execution_count": 8,
   "metadata": {
    "execution": {
     "iopub.execute_input": "2022-02-20T22:41:13.308179Z",
     "iopub.status.busy": "2022-02-20T22:41:13.307813Z",
     "iopub.status.idle": "2022-02-20T22:41:13.603111Z",
     "shell.execute_reply": "2022-02-20T22:41:13.600370Z",
     "shell.execute_reply.started": "2022-02-20T22:41:13.308142Z"
    },
    "tags": []
   },
   "outputs": [],
   "source": [
    "#We have very few Nan so we decide to drop them\n",
    "df1 = df.dropna(how='any')"
   ]
  },
  {
   "cell_type": "code",
   "execution_count": 21,
   "metadata": {
    "execution": {
     "iopub.execute_input": "2022-02-20T22:41:13.613779Z",
     "iopub.status.busy": "2022-02-20T22:41:13.613178Z",
     "iopub.status.idle": "2022-02-20T22:41:45.441629Z",
     "shell.execute_reply": "2022-02-20T22:41:45.440927Z",
     "shell.execute_reply.started": "2022-02-20T22:41:13.613746Z"
    },
    "tags": []
   },
   "outputs": [
    {
     "data": {
      "application/vnd.jupyter.widget-view+json": {
       "model_id": "c1031ba69cfe4c2e8162320b28aae1c4",
       "version_major": 2,
       "version_minor": 0
      },
      "text/plain": [
       "VBox()"
      ]
     },
     "metadata": {},
     "output_type": "display_data"
    },
    {
     "data": {
      "application/vnd.jupyter.widget-view+json": {
       "model_id": "",
       "version_major": 2,
       "version_minor": 0
      },
      "text/plain": [
       "FloatProgress(value=0.0, bar_style='info', description='Progress:', layout=Layout(height='25px', width='50%'),…"
      ]
     },
     "metadata": {},
     "output_type": "display_data"
    },
    {
     "name": "stdout",
     "output_type": "stream",
     "text": [
      "                   count\n",
      "key                    0\n",
      "fare_amount            0\n",
      "pickup_longitude       0\n",
      "pickup_latitude        0\n",
      "dropoff_longitude      0\n",
      "dropoff_latitude       0\n",
      "passenger_count        0"
     ]
    }
   ],
   "source": [
    "#Checking that we have no Na's remaining  \n",
    "count_missings(df1)"
   ]
  },
  {
   "cell_type": "code",
   "execution_count": 22,
   "metadata": {
    "execution": {
     "iopub.execute_input": "2022-02-20T22:41:45.445392Z",
     "iopub.status.busy": "2022-02-20T22:41:45.445175Z",
     "iopub.status.idle": "2022-02-20T22:43:21.900193Z",
     "shell.execute_reply": "2022-02-20T22:43:21.899426Z",
     "shell.execute_reply.started": "2022-02-20T22:41:45.445353Z"
    },
    "tags": []
   },
   "outputs": [
    {
     "data": {
      "application/vnd.jupyter.widget-view+json": {
       "model_id": "987f22a9c7c34291b62e5cf10bdd17e7",
       "version_major": 2,
       "version_minor": 0
      },
      "text/plain": [
       "VBox()"
      ]
     },
     "metadata": {},
     "output_type": "display_data"
    },
    {
     "data": {
      "application/vnd.jupyter.widget-view+json": {
       "model_id": "",
       "version_major": 2,
       "version_minor": 0
      },
      "text/plain": [
       "FloatProgress(value=0.0, bar_style='info', description='Progress:', layout=Layout(height='25px', width='50%'),…"
      ]
     },
     "metadata": {},
     "output_type": "display_data"
    },
    {
     "name": "stdout",
     "output_type": "stream",
     "text": [
      "+-------+-----------------+-----------------+------------------+-----------------+------------------+-----------------+------------------+\n",
      "|summary|              key|      fare_amount|  pickup_longitude|  pickup_latitude| dropoff_longitude| dropoff_latitude|   passenger_count|\n",
      "+-------+-----------------+-----------------+------------------+-----------------+------------------+-----------------+------------------+\n",
      "|  count|         19989863|         19989863|          19989863|         19989863|          19989863|         19989863|          19989863|\n",
      "|   mean| 9994998.99157318|11.34476772151817|-72.51211170524284|39.92108885706621|-72.51080145697657|39.92031440227379| 1.685850873515241|\n",
      "| stddev|5770618.023805641|16.91593038625327|12.916373088561272|9.690157381856485|12.773569810904812|9.683144129318139|1.3238763026418734|\n",
      "|    min|                1|           -300.0|        -3414.1328|       -3478.2412|        -3442.0247|       -3547.8867|                 0|\n",
      "|    25%|          4995598|              6.0|        -73.992065|         40.73494|        -73.991394|         40.73403|                 1|\n",
      "|    50%|          9996358|              8.5|          -73.9818|         40.75265|         -73.98015|         40.75315|                 1|\n",
      "|    75%|         14992675|             12.5|         -73.96708|         40.76713|         -73.96366|        40.768097|                 2|\n",
      "|    max|         19990000|         61550.86|         3456.1377|        3406.0083|         3453.4248|        3407.3916|               208|\n",
      "+-------+-----------------+-----------------+------------------+-----------------+------------------+-----------------+------------------+"
     ]
    }
   ],
   "source": [
    "# # Hashtagged for running time purpose\n",
    "# df1.summary().show()"
   ]
  },
  {
   "cell_type": "markdown",
   "metadata": {},
   "source": [
    "We can see sone anomlay, first we saw that we had trips with no passengers, and trips with 208 passengers. A uber is not supposed to have more than 10 (if we talk about a minivan) and so we want to remove all the trips that are not in the range 1 - 10.\n",
    "\n",
    "We can observe that we have some extreme fare amounts : the maximun is 61 550 while the minimun is negative. We will remove all the fare amount that are not in the range 0 1000. Will 75% of the trips are aroung 12.5 it should not remove to much rows. "
   ]
  },
  {
   "cell_type": "code",
   "execution_count": 9,
   "metadata": {
    "execution": {
     "iopub.execute_input": "2022-02-20T22:43:26.510740Z",
     "iopub.status.busy": "2022-02-20T22:43:26.510483Z",
     "iopub.status.idle": "2022-02-20T22:43:26.777980Z",
     "shell.execute_reply": "2022-02-20T22:43:26.777199Z",
     "shell.execute_reply.started": "2022-02-20T22:43:26.510713Z"
    }
   },
   "outputs": [],
   "source": [
    "#Filtering out all the trips which have weird passenger count\n",
    "df2 = df1.filter(df1.passenger_count.between(1,10))"
   ]
  },
  {
   "cell_type": "code",
   "execution_count": 24,
   "metadata": {
    "execution": {
     "iopub.execute_input": "2022-02-20T22:43:33.088050Z",
     "iopub.status.busy": "2022-02-20T22:43:33.087812Z",
     "iopub.status.idle": "2022-02-20T22:44:02.895427Z",
     "shell.execute_reply": "2022-02-20T22:44:02.894301Z",
     "shell.execute_reply.started": "2022-02-20T22:43:33.088023Z"
    }
   },
   "outputs": [
    {
     "data": {
      "application/vnd.jupyter.widget-view+json": {
       "model_id": "3d0ae6ff0b004fbd8210d40ec0df6ad4",
       "version_major": 2,
       "version_minor": 0
      },
      "text/plain": [
       "VBox()"
      ]
     },
     "metadata": {},
     "output_type": "display_data"
    },
    {
     "data": {
      "application/vnd.jupyter.widget-view+json": {
       "model_id": "",
       "version_major": 2,
       "version_minor": 0
      },
      "text/plain": [
       "FloatProgress(value=0.0, bar_style='info', description='Progress:', layout=Layout(height='25px', width='50%'),…"
      ]
     },
     "metadata": {},
     "output_type": "display_data"
    },
    {
     "name": "stdout",
     "output_type": "stream",
     "text": [
      "The number of rows removed because of passenger count is 70605"
     ]
    }
   ],
   "source": [
    "# #Number of rows removed, has been hashtagged for runtime purpose\n",
    "# print('The number of rows removed because of passenger count is', df1.filter(df1.passenger_count.between(1,10)== False).count())\n"
   ]
  },
  {
   "cell_type": "markdown",
   "metadata": {},
   "source": [
    "### Dealing with fare_amount column"
   ]
  },
  {
   "cell_type": "code",
   "execution_count": 10,
   "metadata": {
    "execution": {
     "iopub.execute_input": "2022-02-20T22:44:09.957266Z",
     "iopub.status.busy": "2022-02-20T22:44:09.957022Z",
     "iopub.status.idle": "2022-02-20T22:44:37.767519Z",
     "shell.execute_reply": "2022-02-20T22:44:37.766828Z",
     "shell.execute_reply.started": "2022-02-20T22:44:09.957239Z"
    }
   },
   "outputs": [
    {
     "name": "stderr",
     "output_type": "stream",
     "text": [
      "                                                                                \r"
     ]
    },
    {
     "data": {
      "text/plain": [
       "2250"
      ]
     },
     "execution_count": 10,
     "metadata": {},
     "output_type": "execute_result"
    }
   ],
   "source": [
    "#Now we are going to deal with fare_amount, starting a 2$ because under this trips are to shorts and to 200$ \n",
    "df2.filter(df2.fare_amount.between(2,200) == False).count() #Only 2250 rows where like this so we are going to remove them"
   ]
  },
  {
   "cell_type": "code",
   "execution_count": 11,
   "metadata": {
    "execution": {
     "iopub.execute_input": "2022-02-20T22:44:37.769125Z",
     "iopub.status.busy": "2022-02-20T22:44:37.768878Z",
     "iopub.status.idle": "2022-02-20T22:44:38.065163Z",
     "shell.execute_reply": "2022-02-20T22:44:38.064503Z",
     "shell.execute_reply.started": "2022-02-20T22:44:37.769090Z"
    }
   },
   "outputs": [],
   "source": [
    "#Removing those rows\n",
    "df3 = df2.filter(df2.fare_amount.between(2,200))"
   ]
  },
  {
   "cell_type": "code",
   "execution_count": 27,
   "metadata": {
    "execution": {
     "iopub.execute_input": "2022-02-20T22:44:38.067236Z",
     "iopub.status.busy": "2022-02-20T22:44:38.066950Z",
     "iopub.status.idle": "2022-02-20T22:45:32.158208Z",
     "shell.execute_reply": "2022-02-20T22:45:32.157263Z",
     "shell.execute_reply.started": "2022-02-20T22:44:38.067201Z"
    }
   },
   "outputs": [
    {
     "data": {
      "application/vnd.jupyter.widget-view+json": {
       "model_id": "718f3d53b8b54c18ac79798a56eb5d05",
       "version_major": 2,
       "version_minor": 0
      },
      "text/plain": [
       "VBox()"
      ]
     },
     "metadata": {},
     "output_type": "display_data"
    },
    {
     "data": {
      "application/vnd.jupyter.widget-view+json": {
       "model_id": "",
       "version_major": 2,
       "version_minor": 0
      },
      "text/plain": [
       "FloatProgress(value=0.0, bar_style='info', description='Progress:', layout=Layout(height='25px', width='50%'),…"
      ]
     },
     "metadata": {},
     "output_type": "display_data"
    },
    {
     "name": "stdout",
     "output_type": "stream",
     "text": [
      "2250"
     ]
    }
   ],
   "source": [
    "# # Hashtagged for runtime purpose\n",
    "# # Checking that we removed the right amount of rows\n",
    "# df2.shape()[0]-df3.shape()[0]"
   ]
  },
  {
   "cell_type": "markdown",
   "metadata": {},
   "source": [
    "### Creating a boolean variable column : high fare, if < 10 it will be 0, if >=10 it will be 1"
   ]
  },
  {
   "cell_type": "code",
   "execution_count": 12,
   "metadata": {
    "execution": {
     "iopub.execute_input": "2022-02-20T22:45:32.160851Z",
     "iopub.status.busy": "2022-02-20T22:45:32.160493Z",
     "iopub.status.idle": "2022-02-20T22:45:32.687546Z",
     "shell.execute_reply": "2022-02-20T22:45:32.686770Z",
     "shell.execute_reply.started": "2022-02-20T22:45:32.160794Z"
    }
   },
   "outputs": [],
   "source": [
    "#Creating a new boolean variable column :\n",
    "# if fare_amount < 10 high_fare = 0, if fare_amount >= 10 high fare =1\n",
    "df4 = df3.withColumn('high_fare', \n",
    "    when((df3.fare_amount < 10), lit('0'))\n",
    "    .when((df3.fare_amount >= 10), lit('1'))\n",
    "    .otherwise(lit('2'))\n",
    ")"
   ]
  },
  {
   "cell_type": "code",
   "execution_count": 29,
   "metadata": {
    "execution": {
     "iopub.execute_input": "2022-02-20T22:45:32.688887Z",
     "iopub.status.busy": "2022-02-20T22:45:32.688634Z",
     "iopub.status.idle": "2022-02-20T22:46:00.524870Z",
     "shell.execute_reply": "2022-02-20T22:46:00.524050Z",
     "shell.execute_reply.started": "2022-02-20T22:45:32.688846Z"
    }
   },
   "outputs": [
    {
     "data": {
      "application/vnd.jupyter.widget-view+json": {
       "model_id": "8a1cd3782433494fadae20789eadca92",
       "version_major": 2,
       "version_minor": 0
      },
      "text/plain": [
       "VBox()"
      ]
     },
     "metadata": {},
     "output_type": "display_data"
    },
    {
     "data": {
      "application/vnd.jupyter.widget-view+json": {
       "model_id": "",
       "version_major": 2,
       "version_minor": 0
      },
      "text/plain": [
       "FloatProgress(value=0.0, bar_style='info', description='Progress:', layout=Layout(height='25px', width='50%'),…"
      ]
     },
     "metadata": {},
     "output_type": "display_data"
    },
    {
     "name": "stdout",
     "output_type": "stream",
     "text": [
      "0"
     ]
    }
   ],
   "source": [
    "# # Hashtagged for running time purpose\n",
    "# # Being sure that we do not have any unplanned value \n",
    "# df4.filter(df4.high_fare == 2).count()"
   ]
  },
  {
   "cell_type": "markdown",
   "metadata": {},
   "source": [
    "#### Creating a new column trip distance"
   ]
  },
  {
   "cell_type": "code",
   "execution_count": 13,
   "metadata": {
    "execution": {
     "iopub.execute_input": "2022-02-20T22:46:00.528219Z",
     "iopub.status.busy": "2022-02-20T22:46:00.527948Z",
     "iopub.status.idle": "2022-02-20T22:46:00.866037Z",
     "shell.execute_reply": "2022-02-20T22:46:00.864981Z",
     "shell.execute_reply.started": "2022-02-20T22:46:00.528181Z"
    }
   },
   "outputs": [],
   "source": [
    "from math import cos, asin, sqrt, pi\n",
    "#Creating a distance function based on coordinates\n",
    "def distance(lat1, lon1, lat2, lon2):\n",
    "    p = pi/180\n",
    "    a = 0.5 - cos((lat2-lat1)*p)/2 + cos(lat1*p) * cos(lat2*p) * (1-cos((lon2-lon1)*p))/2\n",
    "    return 12742 * asin(sqrt(a)) #2*R*asin...\n",
    "\n",
    "#Transforming it to an udf function to use it on our dataset\n",
    "my_udf = F.udf(distance)\n",
    "\n",
    "#Creating a new column \"trip dist\" which is the distance between pickup and dropoff point\n",
    "df5 = df4.withColumn('trip_dist', my_udf('pickup_latitude','pickup_longitude','dropoff_latitude','dropoff_longitude'))"
   ]
  },
  {
   "cell_type": "code",
   "execution_count": 31,
   "metadata": {
    "execution": {
     "iopub.execute_input": "2022-02-20T22:46:00.868593Z",
     "iopub.status.busy": "2022-02-20T22:46:00.868234Z",
     "iopub.status.idle": "2022-02-20T22:48:19.815493Z",
     "shell.execute_reply": "2022-02-20T22:48:19.814586Z",
     "shell.execute_reply.started": "2022-02-20T22:46:00.868555Z"
    }
   },
   "outputs": [
    {
     "data": {
      "application/vnd.jupyter.widget-view+json": {
       "model_id": "8f35865f82184ccf96bb3dd33b47ad75",
       "version_major": 2,
       "version_minor": 0
      },
      "text/plain": [
       "VBox()"
      ]
     },
     "metadata": {},
     "output_type": "display_data"
    },
    {
     "data": {
      "application/vnd.jupyter.widget-view+json": {
       "model_id": "",
       "version_major": 2,
       "version_minor": 0
      },
      "text/plain": [
       "FloatProgress(value=0.0, bar_style='info', description='Progress:', layout=Layout(height='25px', width='50%'),…"
      ]
     },
     "metadata": {},
     "output_type": "display_data"
    },
    {
     "name": "stdout",
     "output_type": "stream",
     "text": [
      "+-------+-----------------+------------------+------------------+-----------------+------------------+-----------------+------------------+-------------------+------------------+\n",
      "|summary|              key|       fare_amount|  pickup_longitude|  pickup_latitude| dropoff_longitude| dropoff_latitude|   passenger_count|          high_fare|         trip_dist|\n",
      "+-------+-----------------+------------------+------------------+-----------------+------------------+-----------------+------------------+-------------------+------------------+\n",
      "|  count|         19917008|          19917008|          19917008|         19917008|          19917008|         19917008|          19917008|           19917008|          19917008|\n",
      "|   mean|9994967.321196739|11.343181350329894|-72.51230937177394|39.92112788918767|-72.51144472202922| 39.9205950303369|1.6916462050926524| 0.3900651141978755|19.604936842479095|\n",
      "| stddev|5770650.330237962| 9.684008929047868|12.924296458575498|9.701516613548208|12.779807549537042|9.693985894467845|1.3077747057594677|0.48776462851354796| 368.0920325087957|\n",
      "|    min|                1|               2.0|        -3414.1328|       -3478.2412|        -3442.0247|       -3547.8867|                 1|                  0|               0.0|\n",
      "|    25%|          4997683|               6.0|        -73.992065|         40.73493|        -73.991394|        40.734035|                 1|                0.0|1.2125443529746995|\n",
      "|    50%|          9994986|               8.5|          -73.9818|        40.752647|         -73.98015|         40.75316|                 1|                0.0| 2.118024389075496|\n",
      "|    75%|         14992717|              12.5|         -73.96707|         40.76713|         -73.96367|        40.768093|                 2|                1.0| 3.877527436896183|\n",
      "|    max|         19990000|             200.0|         3456.1377|        3406.0083|         3453.4248|        3407.3916|                 9|                  1|  9994.81181760813|\n",
      "+-------+-----------------+------------------+------------------+-----------------+------------------+-----------------+------------------+-------------------+------------------+"
     ]
    }
   ],
   "source": [
    "# #has been hashtagged for runtime purpose\n",
    "# df5.summary().show()"
   ]
  },
  {
   "cell_type": "code",
   "execution_count": 32,
   "metadata": {
    "execution": {
     "iopub.execute_input": "2022-02-20T22:48:19.818372Z",
     "iopub.status.busy": "2022-02-20T22:48:19.818125Z",
     "iopub.status.idle": "2022-02-20T22:48:39.529382Z",
     "shell.execute_reply": "2022-02-20T22:48:39.528750Z",
     "shell.execute_reply.started": "2022-02-20T22:48:19.818336Z"
    }
   },
   "outputs": [
    {
     "data": {
      "application/vnd.jupyter.widget-view+json": {
       "model_id": "6e4ed759cde0418aa5ba602b58d25c21",
       "version_major": 2,
       "version_minor": 0
      },
      "text/plain": [
       "VBox()"
      ]
     },
     "metadata": {},
     "output_type": "display_data"
    },
    {
     "data": {
      "application/vnd.jupyter.widget-view+json": {
       "model_id": "",
       "version_major": 2,
       "version_minor": 0
      },
      "text/plain": [
       "FloatProgress(value=0.0, bar_style='info', description='Progress:', layout=Layout(height='25px', width='50%'),…"
      ]
     },
     "metadata": {},
     "output_type": "display_data"
    },
    {
     "name": "stdout",
     "output_type": "stream",
     "text": [
      "+-------+-----------+----------------+---------------+-----------------+----------------+---------------+-------------------+---------+------------------+\n",
      "|    key|fare_amount|pickup_longitude|pickup_latitude|dropoff_longitude|dropoff_latitude|passenger_count|   pickup_date_time|high_fare|         trip_dist|\n",
      "+-------+-----------+----------------+---------------+-----------------+----------------+---------------+-------------------+---------+------------------+\n",
      "| 196556|       12.9|        742.4826|     -3400.0068|        -553.5223|       -1375.512|              1|2012-03-26 16:31:00|        1| 9887.424218085162|\n",
      "| 720532|        7.3|        3045.191|     -2541.5288|         3045.191|      -2541.5288|              1|2012-01-26 22:47:00|        0|               0.0|\n",
      "| 977566|        7.3|        1368.844|       911.7407|         1368.844|        911.7407|              1|2012-02-22 18:44:00|        0|               0.0|\n",
      "|1124542|        6.1|       1547.8156|      -79.45876|        1547.8156|       -79.45876|              1|2011-09-07 20:06:00|        0|               0.0|\n",
      "|1605868|        5.3|        2439.816|      -2143.075|         420.9635|      -486.31116|              1|2011-06-20 20:17:00|        0|  8681.75897994135|\n",
      "|1801745|        5.3|        348.2447|      -784.1278|         2121.033|      -1723.6581|              1|2012-02-18 16:33:00|        0|15734.940447643343|\n",
      "|1866233|       12.1|        402.7534|      2193.8264|         402.7534|       2193.8264|              1|2011-08-04 22:37:00|        1|               0.0|\n",
      "|1898004|       14.5|       377.59283|      -2526.163|        380.37234|       2994.8967|              1|2011-11-15 23:42:00|        1|13457.562927654026|\n",
      "|1902810|        8.5|        332.8624|      1248.7137|         332.8624|       1248.7137|              1|2012-01-18 15:13:00|        0|               0.0|\n",
      "|2136298|        8.1|       2491.5117|     -483.56165|        -567.5081|      -475.15646|              1|2011-12-14 01:42:00|        0| 6528.899568960809|\n",
      "|2191695|        6.5|        2848.038|     -2498.1965|       -1662.2375|      -2895.2805|              1|2011-07-24 23:42:00|        0|18712.182487229456|\n",
      "|2305768|       29.3|       1661.0717|      -3475.475|        1661.0717|       -3475.475|              1|2011-08-18 22:18:00|        1|               0.0|\n",
      "|2602013|        4.5|       2842.4573|      857.24036|        2842.4573|       857.24036|              1|2012-01-23 20:10:00|        0|               0.0|\n",
      "|3075580|        5.7|       2416.0234|     -2060.6062|        1768.7142|       1700.2849|              1|2012-03-15 14:52:00|        0|18306.309450424065|\n",
      "|3296596|       12.9|        3063.351|     -2450.6965|       -2565.4092|      -1796.3486|              1|2011-12-14 02:00:00|        1|11114.836080008556|\n",
      "|3374807|       17.3|       1547.8156|      -79.45876|        1547.8156|       -79.45876|              1|2011-09-07 22:42:00|        1|               0.0|\n",
      "|3382356|        5.7|       1662.4597|      -44.54828|        402.76837|       -402.4543|              1|2011-07-01 08:53:00|        0|10340.792615680546|\n",
      "|3545544|        5.7|        1368.844|       911.7407|         1368.844|        911.7407|              1|2012-02-22 18:56:00|        0|               0.0|\n",
      "|3970206|        8.9|        2829.963|      -894.5633|         2829.963|       -894.5633|              1|2011-08-18 14:40:00|        0|               0.0|\n",
      "|4097189|        7.3|        2469.179|     -774.28955|        2119.6716|      -1199.3137|              1|2011-06-18 09:21:00|        0| 7196.729620727783|\n",
      "+-------+-----------+----------------+---------------+-----------------+----------------+---------------+-------------------+---------+------------------+\n",
      "only showing top 20 rows"
     ]
    }
   ],
   "source": [
    "# # Hashtagged for runtime purpose\n",
    "# # Checking outlier longitude\n",
    "# df5.filter(df5.pickup_longitude > 155).show()"
   ]
  },
  {
   "cell_type": "markdown",
   "metadata": {},
   "source": [
    "We can see some anomaly, for the coordinate, we have on the extrumum some wrong values. No coordinate have a latitude or longitude that is 3450 or -3450. Let's check what happened and if it happend on a lot of rows. As we know, longitude is a value between -180 and 180 and latitude is a value between -90 and 90. \n",
    "\n",
    "In addition, taking some look at the values that can exist, we saw some weird trip like this one: \n",
    "\n",
    "We can observe from google maps : https://www.google.com/maps/place/67°31'54.2%22N+155°01'07.3%22E/@67.4834935,152.791713,7.17z/data=!4m5!3m4!1s0x0:0xc15006325a1362b7!8m2!3d67.531715!4d155.0187\n",
    "that this trip started from russia and endend in NY https://www.google.com/maps/place/40°46'23.5%22N+73°58'53.8%22W/@40.7712008,-73.9969431,13.87z/data=!4m5!3m4!1s0x0:0x7c5141ab39ede386!8m2!3d40.773186!4d-73.98161\n",
    "\n",
    "That dont seem very realistic. And so we will wan to remove all those weird trips.  \n",
    "At this point we decided to keep only trips with a certain maximum trip distance but it was not enought because short trips in another coutry can be their, so we will keep only trips in new york to avoid any problems. \n",
    "We so took large bounds of new york to be sure to not delete wrong trips. "
   ]
  },
  {
   "cell_type": "code",
   "execution_count": 33,
   "metadata": {
    "execution": {
     "iopub.execute_input": "2022-02-20T22:48:39.531584Z",
     "iopub.status.busy": "2022-02-20T22:48:39.531288Z",
     "iopub.status.idle": "2022-02-20T22:49:07.335705Z",
     "shell.execute_reply": "2022-02-20T22:49:07.334926Z",
     "shell.execute_reply.started": "2022-02-20T22:48:39.531548Z"
    }
   },
   "outputs": [
    {
     "data": {
      "application/vnd.jupyter.widget-view+json": {
       "model_id": "ae6e47902097477792d54b9007e706cf",
       "version_major": 2,
       "version_minor": 0
      },
      "text/plain": [
       "VBox()"
      ]
     },
     "metadata": {},
     "output_type": "display_data"
    },
    {
     "data": {
      "application/vnd.jupyter.widget-view+json": {
       "model_id": "",
       "version_major": 2,
       "version_minor": 0
      },
      "text/plain": [
       "FloatProgress(value=0.0, bar_style='info', description='Progress:', layout=Layout(height='25px', width='50%'),…"
      ]
     },
     "metadata": {},
     "output_type": "display_data"
    },
    {
     "name": "stdout",
     "output_type": "stream",
     "text": [
      "So we will delete 429169"
     ]
    }
   ],
   "source": [
    "# # # Hashtag for runtime purpose\n",
    "# print('So we will delete',df5.filter((df5.pickup_longitude.between(-75,-73) == False) | \n",
    "# (df5.pickup_latitude.between(40, 41) == False) | \n",
    "# (df5.dropoff_longitude.between(-75,-73) == False) | \n",
    "# (df5.dropoff_latitude.between(40, 41) == False)).count())"
   ]
  },
  {
   "cell_type": "code",
   "execution_count": 14,
   "metadata": {
    "execution": {
     "iopub.execute_input": "2022-02-20T22:49:07.345864Z",
     "iopub.status.busy": "2022-02-20T22:49:07.345395Z",
     "iopub.status.idle": "2022-02-20T22:49:07.694171Z",
     "shell.execute_reply": "2022-02-20T22:49:07.690898Z",
     "shell.execute_reply.started": "2022-02-20T22:49:07.345823Z"
    }
   },
   "outputs": [],
   "source": [
    "#Dropping the rows\n",
    "df6 = df5.filter((df5.pickup_longitude.between(-75,-73))& \n",
    "(df5.pickup_latitude.between(40, 41)) & \n",
    "(df5.dropoff_longitude.between(-75,-73)) & \n",
    "(df5.dropoff_latitude.between(40, 41)))"
   ]
  },
  {
   "cell_type": "code",
   "execution_count": 35,
   "metadata": {
    "execution": {
     "iopub.execute_input": "2022-02-20T22:49:07.696962Z",
     "iopub.status.busy": "2022-02-20T22:49:07.696685Z",
     "iopub.status.idle": "2022-02-20T22:50:03.892269Z",
     "shell.execute_reply": "2022-02-20T22:50:03.891367Z",
     "shell.execute_reply.started": "2022-02-20T22:49:07.696921Z"
    }
   },
   "outputs": [
    {
     "data": {
      "application/vnd.jupyter.widget-view+json": {
       "model_id": "fcdc3146237b45c5ae1e7553556a5cc0",
       "version_major": 2,
       "version_minor": 0
      },
      "text/plain": [
       "VBox()"
      ]
     },
     "metadata": {},
     "output_type": "display_data"
    },
    {
     "data": {
      "application/vnd.jupyter.widget-view+json": {
       "model_id": "",
       "version_major": 2,
       "version_minor": 0
      },
      "text/plain": [
       "FloatProgress(value=0.0, bar_style='info', description='Progress:', layout=Layout(height='25px', width='50%'),…"
      ]
     },
     "metadata": {},
     "output_type": "display_data"
    },
    {
     "name": "stdout",
     "output_type": "stream",
     "text": [
      "So we deleted 429169"
     ]
    }
   ],
   "source": [
    "# #Checking that we removend the right amount of rows. \n",
    "# #Hashtagged for running time purpose\n",
    "# print('So we deleted',\n",
    "# df5.shape()[0] - df6.shape()[0])"
   ]
  },
  {
   "cell_type": "code",
   "execution_count": 36,
   "metadata": {
    "execution": {
     "iopub.execute_input": "2022-02-20T22:50:03.894181Z",
     "iopub.status.busy": "2022-02-20T22:50:03.893653Z",
     "iopub.status.idle": "2022-02-20T22:52:18.820598Z",
     "shell.execute_reply": "2022-02-20T22:52:18.819685Z",
     "shell.execute_reply.started": "2022-02-20T22:50:03.894144Z"
    }
   },
   "outputs": [
    {
     "data": {
      "application/vnd.jupyter.widget-view+json": {
       "model_id": "96d407e11bde40bdb85697bc29f221f8",
       "version_major": 2,
       "version_minor": 0
      },
      "text/plain": [
       "VBox()"
      ]
     },
     "metadata": {},
     "output_type": "display_data"
    },
    {
     "data": {
      "application/vnd.jupyter.widget-view+json": {
       "model_id": "",
       "version_major": 2,
       "version_minor": 0
      },
      "text/plain": [
       "FloatProgress(value=0.0, bar_style='info', description='Progress:', layout=Layout(height='25px', width='50%'),…"
      ]
     },
     "metadata": {},
     "output_type": "display_data"
    },
    {
     "name": "stdout",
     "output_type": "stream",
     "text": [
      "+-------+-----------------+------------------+--------------------+--------------------+-------------------+-------------------+------------------+-------------------+------------------+\n",
      "|summary|              key|       fare_amount|    pickup_longitude|     pickup_latitude|  dropoff_longitude|   dropoff_latitude|   passenger_count|          high_fare|         trip_dist|\n",
      "+-------+-----------------+------------------+--------------------+--------------------+-------------------+-------------------+------------------+-------------------+------------------+\n",
      "|  count|         19487839|          19487839|            19487839|            19487839|           19487839|           19487839|          19487839|           19487839|          19487839|\n",
      "|   mean|9994718.346435333|11.315831825682636|  -73.97545914917852|  40.750795656909915| -73.97456822776411| 40.751170940012464|1.6918493117682263| 0.3899570393618297| 3.314681283368254|\n",
      "| stddev|5770700.285832579|  9.55505686699593|0.035530404955229376|0.027434197914868865|0.03530658138483693|0.03125713221474758|1.3077148932284683|0.48774025774085483|3.5921464757490615|\n",
      "|    min|                1|               2.0|               -75.0|            40.00234|          -74.99701|           40.00201|                 1|                  0|               0.0|\n",
      "|    25%|          4997689|               6.0|           -73.99227|           40.736553|         -73.991585|          40.735565|                 1|                0.0|1.2538372312353772|\n",
      "|    50%|          9992702|               8.5|           -73.98209|            40.75336|         -73.980606|          40.753838|                 1|                0.0| 2.153967225791676|\n",
      "|    75%|         14991520|              12.5|           -73.96832|           40.767517|          -73.96538|           40.76838|                 2|                1.0|3.9105426441415854|\n",
      "|    max|         19990000|             200.0|               -73.0|            40.99982|              -73.0|           40.99998|                 9|                  1| 99.46437335795157|\n",
      "+-------+-----------------+------------------+--------------------+--------------------+-------------------+-------------------+------------------+-------------------+------------------+"
     ]
    }
   ],
   "source": [
    "# #has been hashtagged for runtime purpose\n",
    "# df6.summary().show()"
   ]
  },
  {
   "cell_type": "code",
   "execution_count": 37,
   "metadata": {
    "execution": {
     "iopub.execute_input": "2022-02-20T22:52:18.822794Z",
     "iopub.status.busy": "2022-02-20T22:52:18.822174Z",
     "iopub.status.idle": "2022-02-20T22:53:06.792783Z",
     "shell.execute_reply": "2022-02-20T22:53:06.792074Z",
     "shell.execute_reply.started": "2022-02-20T22:52:18.822757Z"
    }
   },
   "outputs": [
    {
     "data": {
      "application/vnd.jupyter.widget-view+json": {
       "model_id": "dc05b46e4c5347b6bda2b0a7dce7698f",
       "version_major": 2,
       "version_minor": 0
      },
      "text/plain": [
       "VBox()"
      ]
     },
     "metadata": {},
     "output_type": "display_data"
    },
    {
     "data": {
      "application/vnd.jupyter.widget-view+json": {
       "model_id": "",
       "version_major": 2,
       "version_minor": 0
      },
      "text/plain": [
       "FloatProgress(value=0.0, bar_style='info', description='Progress:', layout=Layout(height='25px', width='50%'),…"
      ]
     },
     "metadata": {},
     "output_type": "display_data"
    },
    {
     "name": "stdout",
     "output_type": "stream",
     "text": [
      "8924"
     ]
    }
   ],
   "source": [
    "# #has been hashtagged for runtime purpose\n",
    "\n",
    "# df6.filter(df6.trip_dist > 25).count() # Print fews rows so we decided to delete all the trip with a trip distance > 25km \n"
   ]
  },
  {
   "cell_type": "markdown",
   "metadata": {},
   "source": [
    "### Dropping all the rows with a trip distance >25 \n"
   ]
  },
  {
   "cell_type": "code",
   "execution_count": 15,
   "metadata": {
    "execution": {
     "iopub.execute_input": "2022-02-20T22:53:06.794699Z",
     "iopub.status.busy": "2022-02-20T22:53:06.794410Z",
     "iopub.status.idle": "2022-02-20T22:53:07.070021Z",
     "shell.execute_reply": "2022-02-20T22:53:07.069236Z",
     "shell.execute_reply.started": "2022-02-20T22:53:06.794667Z"
    }
   },
   "outputs": [],
   "source": [
    "df7 = df6.filter(df6.trip_dist <=25)"
   ]
  },
  {
   "cell_type": "markdown",
   "metadata": {},
   "source": [
    "### Checking  how many trip distance with 0, and drop them "
   ]
  },
  {
   "cell_type": "code",
   "execution_count": 39,
   "metadata": {
    "execution": {
     "iopub.execute_input": "2022-02-20T22:53:07.071888Z",
     "iopub.status.busy": "2022-02-20T22:53:07.071630Z",
     "iopub.status.idle": "2022-02-20T22:54:09.229051Z",
     "shell.execute_reply": "2022-02-20T22:54:09.227049Z",
     "shell.execute_reply.started": "2022-02-20T22:53:07.071852Z"
    }
   },
   "outputs": [
    {
     "data": {
      "application/vnd.jupyter.widget-view+json": {
       "model_id": "1f449fe529b942b891c5f6281c22b0b0",
       "version_major": 2,
       "version_minor": 0
      },
      "text/plain": [
       "VBox()"
      ]
     },
     "metadata": {},
     "output_type": "display_data"
    },
    {
     "data": {
      "application/vnd.jupyter.widget-view+json": {
       "model_id": "",
       "version_major": 2,
       "version_minor": 0
      },
      "text/plain": [
       "FloatProgress(value=0.0, bar_style='info', description='Progress:', layout=Layout(height='25px', width='50%'),…"
      ]
     },
     "metadata": {},
     "output_type": "display_data"
    },
    {
     "name": "stdout",
     "output_type": "stream",
     "text": [
      "205684"
     ]
    }
   ],
   "source": [
    "# #has been hashtagged for runtime purpose\n",
    "\n",
    "# df7.filter(df7.trip_dist == 0.0).count() "
   ]
  },
  {
   "cell_type": "code",
   "execution_count": 16,
   "metadata": {
    "execution": {
     "iopub.execute_input": "2022-02-20T22:54:09.233728Z",
     "iopub.status.busy": "2022-02-20T22:54:09.230140Z",
     "iopub.status.idle": "2022-02-20T22:54:09.708783Z",
     "shell.execute_reply": "2022-02-20T22:54:09.707778Z",
     "shell.execute_reply.started": "2022-02-20T22:54:09.233697Z"
    }
   },
   "outputs": [],
   "source": [
    "#Drop them \n",
    "df8 = df7.filter(df7.trip_dist != 0.0)"
   ]
  },
  {
   "cell_type": "markdown",
   "metadata": {},
   "source": [
    "Now that our outliers seems to be out lets take care of our dates and separate the column into year month day, weekday hour\n"
   ]
  },
  {
   "cell_type": "code",
   "execution_count": 17,
   "metadata": {
    "execution": {
     "iopub.execute_input": "2022-02-20T22:54:09.710429Z",
     "iopub.status.busy": "2022-02-20T22:54:09.710022Z",
     "iopub.status.idle": "2022-02-20T22:54:10.190212Z",
     "shell.execute_reply": "2022-02-20T22:54:10.189568Z",
     "shell.execute_reply.started": "2022-02-20T22:54:09.710390Z"
    }
   },
   "outputs": [],
   "source": [
    "#Changing the type of trip_dist to double (forgot to do it before)\n",
    "df8 = df8.withColumn('trip_dist',df7.trip_dist.cast('double'))"
   ]
  },
  {
   "cell_type": "code",
   "execution_count": 18,
   "metadata": {
    "execution": {
     "iopub.execute_input": "2022-02-20T22:54:10.191683Z",
     "iopub.status.busy": "2022-02-20T22:54:10.191443Z",
     "iopub.status.idle": "2022-02-20T22:54:10.472047Z",
     "shell.execute_reply": "2022-02-20T22:54:10.471387Z",
     "shell.execute_reply.started": "2022-02-20T22:54:10.191648Z"
    }
   },
   "outputs": [],
   "source": [
    "#Changing the type of high_fare to double (forgot to do it before)\n",
    "df8 = df8.withColumn('high_fare',df7.high_fare.cast('double'))"
   ]
  },
  {
   "cell_type": "code",
   "execution_count": 19,
   "metadata": {
    "execution": {
     "iopub.execute_input": "2022-02-20T22:54:10.473489Z",
     "iopub.status.busy": "2022-02-20T22:54:10.473247Z",
     "iopub.status.idle": "2022-02-20T22:54:10.780611Z",
     "shell.execute_reply": "2022-02-20T22:54:10.779826Z",
     "shell.execute_reply.started": "2022-02-20T22:54:10.473454Z"
    }
   },
   "outputs": [],
   "source": [
    "df9 = df8.withColumn(\"pickup_date_time\",to_timestamp(\"pickup_date_time\")).withColumn(\"year\",\n",
    "  year(col(\"pickup_date_time\"))\n",
    ").withColumn(\n",
    "  \"month\",\n",
    "  month(col(\"pickup_date_time\"))\n",
    ").withColumn(\n",
    "  \"day\",\n",
    "  dayofmonth(col(\"pickup_date_time\"))\n",
    ").withColumn(\"hour\",\n",
    "  hour(col(\"pickup_date_time\"))\n",
    ").withColumn(\"weekday\",\n",
    "  dayofweek(col(\"pickup_date_time\"))\n",
    ")"
   ]
  },
  {
   "cell_type": "code",
   "execution_count": 20,
   "metadata": {
    "execution": {
     "iopub.execute_input": "2022-02-20T22:54:10.782197Z",
     "iopub.status.busy": "2022-02-20T22:54:10.781903Z",
     "iopub.status.idle": "2022-02-20T22:54:11.153971Z",
     "shell.execute_reply": "2022-02-20T22:54:11.153094Z",
     "shell.execute_reply.started": "2022-02-20T22:54:10.782162Z"
    }
   },
   "outputs": [],
   "source": [
    "df9 = df9.drop(df9.pickup_date_time) #Dropping the original variable"
   ]
  },
  {
   "cell_type": "code",
   "execution_count": 21,
   "metadata": {
    "execution": {
     "iopub.execute_input": "2022-02-20T22:54:11.155806Z",
     "iopub.status.busy": "2022-02-20T22:54:11.155514Z",
     "iopub.status.idle": "2022-02-20T22:54:11.465781Z",
     "shell.execute_reply": "2022-02-20T22:54:11.465050Z",
     "shell.execute_reply.started": "2022-02-20T22:54:11.155750Z"
    }
   },
   "outputs": [],
   "source": [
    "plotdf=df9.sample(False,0.00052,1) #Taking a sample of around 10000 rows to plot"
   ]
  },
  {
   "cell_type": "code",
   "execution_count": 46,
   "metadata": {
    "execution": {
     "iopub.execute_input": "2022-02-20T22:54:11.468447Z",
     "iopub.status.busy": "2022-02-20T22:54:11.467951Z",
     "iopub.status.idle": "2022-02-20T22:55:13.702096Z",
     "shell.execute_reply": "2022-02-20T22:55:13.701230Z",
     "shell.execute_reply.started": "2022-02-20T22:54:11.468408Z"
    }
   },
   "outputs": [
    {
     "data": {
      "application/vnd.jupyter.widget-view+json": {
       "model_id": "4910302cb3744f9f8280c6f9911d2e01",
       "version_major": 2,
       "version_minor": 0
      },
      "text/plain": [
       "VBox()"
      ]
     },
     "metadata": {},
     "output_type": "display_data"
    },
    {
     "data": {
      "application/vnd.jupyter.widget-view+json": {
       "model_id": "",
       "version_major": 2,
       "version_minor": 0
      },
      "text/plain": [
       "FloatProgress(value=0.0, bar_style='info', description='Progress:', layout=Layout(height='25px', width='50%'),…"
      ]
     },
     "metadata": {},
     "output_type": "display_data"
    },
    {
     "name": "stdout",
     "output_type": "stream",
     "text": [
      "10015"
     ]
    }
   ],
   "source": [
    "#Hashtagged for running time purpose\n",
    "plotdf.count()"
   ]
  },
  {
   "cell_type": "markdown",
   "metadata": {},
   "source": [
    "### One hot encoding for week day "
   ]
  },
  {
   "cell_type": "code",
   "execution_count": 22,
   "metadata": {
    "execution": {
     "iopub.execute_input": "2022-02-20T22:55:13.719580Z",
     "iopub.status.busy": "2022-02-20T22:55:13.709284Z",
     "iopub.status.idle": "2022-02-20T22:55:14.770922Z",
     "shell.execute_reply": "2022-02-20T22:55:14.770275Z",
     "shell.execute_reply.started": "2022-02-20T22:55:13.719517Z"
    }
   },
   "outputs": [],
   "source": [
    "df10 = df9.withColumn('zerotofour', \n",
    "    when((df9.hour <= 4), lit('1'))\n",
    "    .otherwise(lit('0')))\n",
    "\n",
    "df10 = df10.withColumn('fivetoseven', \n",
    "    F.when((df10.hour > 4) & (df10.hour <=7), lit('1'))\n",
    "    .otherwise(lit('0')))\n",
    "\n",
    "df10 = df10.withColumn('eighttoeleven', \n",
    "    F.when((df10.hour > 8) & (df10.hour <=11), lit('1'))\n",
    "    .otherwise(lit('0')))\n",
    "    \n",
    "df10 = df10.withColumn('twelvetofifteen', \n",
    "    F.when((df10.hour > 12) & (df10.hour <=15), lit('1'))\n",
    "    .otherwise(lit('0')))\n",
    "\n",
    "df10 = df10.withColumn('sixteentonineteen', \n",
    "    F.when((df10.hour > 16) & (df10.hour <=19), lit('1'))\n",
    "    .otherwise(lit('0')))\n",
    "\n",
    "df10 = df10.withColumn('twentytotthree', \n",
    "    F.when((df10.hour > 20) & (df10.hour <=23), lit('1'))\n",
    "    .otherwise(lit('0')))\n",
    "\n",
    "df10 = df10.drop('hour')\n"
   ]
  },
  {
   "cell_type": "markdown",
   "metadata": {},
   "source": [
    "## Checking distribution of rides # per month to perform a good one-hot-encoding"
   ]
  },
  {
   "cell_type": "code",
   "execution_count": 23,
   "metadata": {
    "execution": {
     "iopub.execute_input": "2022-02-20T22:57:17.966223Z",
     "iopub.status.busy": "2022-02-20T22:57:17.965991Z",
     "iopub.status.idle": "2022-02-20T22:59:01.580769Z",
     "shell.execute_reply": "2022-02-20T22:59:01.579879Z",
     "shell.execute_reply.started": "2022-02-20T22:57:17.966196Z"
    },
    "tags": []
   },
   "outputs": [
    {
     "name": "stderr",
     "output_type": "stream",
     "text": [
      "                                                                                \r"
     ]
    }
   ],
   "source": [
    "#%%time \n",
    "import pandas as pd \n",
    "import matplotlib.pyplot as plt\n",
    "x = plotdf.toPandas()"
   ]
  },
  {
   "cell_type": "code",
   "execution_count": 25,
   "metadata": {
    "execution": {
     "iopub.execute_input": "2022-02-20T23:01:08.097686Z",
     "iopub.status.busy": "2022-02-20T23:01:08.097441Z",
     "iopub.status.idle": "2022-02-20T23:01:08.639782Z",
     "shell.execute_reply": "2022-02-20T23:01:08.638880Z",
     "shell.execute_reply.started": "2022-02-20T23:01:08.097659Z"
    },
    "tags": []
   },
   "outputs": [
    {
     "data": {
      "text/plain": [
       "Text(0, 0.5, '# rides')"
      ]
     },
     "execution_count": 25,
     "metadata": {},
     "output_type": "execute_result"
    },
    {
     "data": {
      "image/png": "[encoded data removed]",
      "text/plain": [
       "<Figure size 432x288 with 1 Axes>"
      ]
     },
     "metadata": {
      "needs_background": "light"
     },
     "output_type": "display_data"
    }
   ],
   "source": [
    "plt.hist(x.month, bins=12, rwidth=0.8, color = 'lightblue')\n",
    "plt.grid(axis='y', alpha=0.75)\n",
    "plt.xlim([0,12])\n",
    "plt.ylim([600,950])\n",
    "plt.title('Distribution of # rides per month')\n",
    "plt.xlabel('Month')\n",
    "plt.ylabel( '# rides')\n",
    "%matplot plt"
   ]
  },
  {
   "cell_type": "markdown",
   "metadata": {},
   "source": [
    "#### We can observe a clear difference between the month number of rides. \n",
    " ##### So for our model we are going to one and hot encoding months into 3 group :\n",
    "\n",
    "low month : july, august september. Number of rides under 750\n",
    "\n",
    "middle month : february, october, november, december Number of rides under 850\n",
    "\n",
    "hight month : january, march, april, may, june  Number of rides over 850"
   ]
  },
  {
   "cell_type": "code",
   "execution_count": 26,
   "metadata": {
    "execution": {
     "iopub.execute_input": "2022-02-20T23:01:53.578620Z",
     "iopub.status.busy": "2022-02-20T23:01:53.578310Z",
     "iopub.status.idle": "2022-02-20T23:01:54.112077Z",
     "shell.execute_reply": "2022-02-20T23:01:54.111240Z",
     "shell.execute_reply.started": "2022-02-20T23:01:53.578588Z"
    },
    "tags": []
   },
   "outputs": [],
   "source": [
    "df11 = df10.withColumn('Low_Months', \n",
    "    when((df10.month == 7) | (df10.month == 8) | (df10.month == 9), lit('1'))\n",
    "    .otherwise(lit('0')))\n",
    "\n",
    "df11 = df11.withColumn('Middle_Months', \n",
    "    when((df11.month == 2) | (df11.month == 10) | (df11.month == 11) | (df11.month == 12) , lit('1'))\n",
    "    .otherwise(lit('0')))\n",
    "\n",
    "df11 = df11.withColumn('High_Months', \n",
    "    when((df11.month == 1) | (df11.month == 3) | (df11.month == 4) | (df11.month == 5) | (df11.month == 6) , lit('1'))\n",
    "    .otherwise(lit('0')))\n",
    "df11 = df11.drop('month')"
   ]
  },
  {
   "cell_type": "code",
   "execution_count": 27,
   "metadata": {
    "execution": {
     "iopub.execute_input": "2022-02-20T22:59:41.705178Z",
     "iopub.status.busy": "2022-02-20T22:59:41.704930Z",
     "iopub.status.idle": "2022-02-20T22:59:41.967820Z",
     "shell.execute_reply": "2022-02-20T22:59:41.967060Z",
     "shell.execute_reply.started": "2022-02-20T22:59:41.705149Z"
    },
    "tags": []
   },
   "outputs": [],
   "source": [
    "averageplot = x.groupby('weekday', as_index=False)['fare_amount'].mean()"
   ]
  },
  {
   "cell_type": "code",
   "execution_count": 28,
   "metadata": {
    "execution": {
     "iopub.execute_input": "2022-02-20T23:02:04.080243Z",
     "iopub.status.busy": "2022-02-20T23:02:04.079991Z",
     "iopub.status.idle": "2022-02-20T23:02:04.606493Z",
     "shell.execute_reply": "2022-02-20T23:02:04.605663Z",
     "shell.execute_reply.started": "2022-02-20T23:02:04.080214Z"
    },
    "tags": []
   },
   "outputs": [
    {
     "data": {
      "text/plain": [
       "<matplotlib.legend.Legend at 0x7fc761bbdd00>"
      ]
     },
     "execution_count": 28,
     "metadata": {},
     "output_type": "execute_result"
    },
    {
     "data": {
      "image/png": "[encoded data removed]",
      "text/plain": [
       "<Figure size 720x576 with 1 Axes>"
      ]
     },
     "metadata": {
      "needs_background": "light"
     },
     "output_type": "display_data"
    }
   ],
   "source": [
    "averageplot.plot.bar(x='weekday',y='fare_amount',color='lightblue',edgecolor='grey', figsize =(10,8))\n",
    "plt.gca().update(dict(title='Average ride length per pickup weekday',\n",
    " xlabel= 'WeekDay', ylabel='Fare_amount'))\n",
    "plt.legend('')\n",
    "%matplot plt"
   ]
  },
  {
   "cell_type": "markdown",
   "metadata": {},
   "source": [
    "As we can see, their is no big  difference between the different weekday and so we decided to drop the weekday and the day. \n",
    "We will drop as well the year because this is not something we found interesting. The goal is to predict on new trips. New trips will have a later year date. "
   ]
  },
  {
   "cell_type": "code",
   "execution_count": 29,
   "metadata": {
    "execution": {
     "iopub.execute_input": "2022-02-20T23:02:28.604427Z",
     "iopub.status.busy": "2022-02-20T23:02:28.604172Z",
     "iopub.status.idle": "2022-02-20T23:02:28.856694Z",
     "shell.execute_reply": "2022-02-20T23:02:28.855804Z",
     "shell.execute_reply.started": "2022-02-20T23:02:28.604400Z"
    },
    "tags": []
   },
   "outputs": [],
   "source": [
    "df12 = df11.drop('weekday','day','year')"
   ]
  },
  {
   "cell_type": "code",
   "execution_count": 30,
   "metadata": {
    "execution": {
     "iopub.execute_input": "2022-02-20T23:02:29.883068Z",
     "iopub.status.busy": "2022-02-20T23:02:29.882797Z",
     "iopub.status.idle": "2022-02-20T23:02:30.155416Z",
     "shell.execute_reply": "2022-02-20T23:02:30.154453Z",
     "shell.execute_reply.started": "2022-02-20T23:02:29.883039Z"
    },
    "tags": []
   },
   "outputs": [
    {
     "name": "stdout",
     "output_type": "stream",
     "text": [
      "root\n",
      " |-- key: integer (nullable = true)\n",
      " |-- fare_amount: double (nullable = true)\n",
      " |-- pickup_longitude: double (nullable = true)\n",
      " |-- pickup_latitude: double (nullable = true)\n",
      " |-- dropoff_longitude: double (nullable = true)\n",
      " |-- dropoff_latitude: double (nullable = true)\n",
      " |-- passenger_count: integer (nullable = true)\n",
      " |-- high_fare: double (nullable = true)\n",
      " |-- trip_dist: double (nullable = true)\n",
      " |-- zerotofour: string (nullable = false)\n",
      " |-- fivetoseven: string (nullable = false)\n",
      " |-- eighttoeleven: string (nullable = false)\n",
      " |-- twelvetofifteen: string (nullable = false)\n",
      " |-- sixteentonineteen: string (nullable = false)\n",
      " |-- twentytotthree: string (nullable = false)\n",
      " |-- Low_Months: string (nullable = false)\n",
      " |-- Middle_Months: string (nullable = false)\n",
      " |-- High_Months: string (nullable = false)\n",
      "\n"
     ]
    }
   ],
   "source": [
    "df12.printSchema()"
   ]
  },
  {
   "cell_type": "code",
   "execution_count": 31,
   "metadata": {
    "execution": {
     "iopub.execute_input": "2022-02-20T23:02:30.997758Z",
     "iopub.status.busy": "2022-02-20T23:02:30.997524Z",
     "iopub.status.idle": "2022-02-20T23:02:31.272903Z",
     "shell.execute_reply": "2022-02-20T23:02:31.271987Z",
     "shell.execute_reply.started": "2022-02-20T23:02:30.997730Z"
    },
    "tags": []
   },
   "outputs": [],
   "source": [
    "df12 = df12.withColumn('zerotofour',df12.zerotofour.cast('double'))\n",
    "df12 = df12.withColumn('fivetoseven',df12.fivetoseven.cast('double'))\n",
    "\n",
    "df12 = df12.withColumn('eighttoeleven',df12.eighttoeleven.cast('double'))\n",
    "\n",
    "df12 = df12.withColumn('twelvetofifteen',df12.twelvetofifteen.cast('double'))\n",
    "\n",
    "df12 = df12.withColumn('sixteentonineteen',df12.sixteentonineteen.cast('double'))\n",
    "\n",
    "df12 = df12.withColumn('twentytotthree',df12.twentytotthree.cast('double'))\n",
    "\n",
    "df12 = df12.withColumn('Low_Months',df12.Low_Months.cast('double'))\n",
    "\n",
    "df12 = df12.withColumn('Middle_Months',df12.Middle_Months.cast('double'))\n",
    "\n",
    "df12 = df12.withColumn('High_Months',df12.High_Months.cast('double'))\n",
    "\n",
    "\n",
    "\n"
   ]
  },
  {
   "cell_type": "markdown",
   "metadata": {},
   "source": [
    "## Plotting "
   ]
  },
  {
   "cell_type": "code",
   "execution_count": 32,
   "metadata": {
    "execution": {
     "iopub.execute_input": "2022-02-20T23:02:43.056184Z",
     "iopub.status.busy": "2022-02-20T23:02:43.055924Z",
     "iopub.status.idle": "2022-02-20T23:02:43.901098Z",
     "shell.execute_reply": "2022-02-20T23:02:43.900373Z",
     "shell.execute_reply.started": "2022-02-20T23:02:43.056156Z"
    },
    "tags": []
   },
   "outputs": [
    {
     "data": {
      "text/plain": [
       "Text(0, 0.5, '# rides')"
      ]
     },
     "execution_count": 32,
     "metadata": {},
     "output_type": "execute_result"
    },
    {
     "data": {
      "image/png": "[encoded data removed]",
      "text/plain": [
       "<Figure size 432x288 with 1 Axes>"
      ]
     },
     "metadata": {
      "needs_background": "light"
     },
     "output_type": "display_data"
    }
   ],
   "source": [
    "plt.hist(x.fare_amount, bins=50, rwidth=0.8, color = 'lightblue')\n",
    "plt.grid(axis='y', alpha=0.75)\n",
    "plt.xlim([0,80])\n",
    "plt.title('Distribution of ride fairs')\n",
    "plt.xlabel('fare_amount')\n",
    "plt.ylabel('# rides')\n",
    "%matplot plt"
   ]
  },
  {
   "cell_type": "code",
   "execution_count": 33,
   "metadata": {
    "execution": {
     "iopub.execute_input": "2022-02-20T23:03:53.618673Z",
     "iopub.status.busy": "2022-02-20T23:03:53.618427Z",
     "iopub.status.idle": "2022-02-20T23:03:54.557938Z",
     "shell.execute_reply": "2022-02-20T23:03:54.557048Z",
     "shell.execute_reply.started": "2022-02-20T23:03:53.618646Z"
    },
    "tags": []
   },
   "outputs": [
    {
     "data": {
      "text/plain": [
       "Text(0, 0.5, 'trip distance')"
      ]
     },
     "execution_count": 33,
     "metadata": {},
     "output_type": "execute_result"
    },
    {
     "data": {
      "image/png": "[encoded data removed]",
      "text/plain": [
       "<Figure size 432x288 with 1 Axes>"
      ]
     },
     "metadata": {
      "needs_background": "light"
     },
     "output_type": "display_data"
    }
   ],
   "source": [
    "plt.scatter(x.fare_amount, x.trip_dist, color='lightblue')\n",
    "plt.xlim([0,150])\n",
    "plt.title('Ride fare vs. ride length.')\n",
    "plt.xlabel('fare_amount')\n",
    "plt.ylabel('trip distance')\n",
    "%matplot plt"
   ]
  },
  {
   "cell_type": "code",
   "execution_count": 34,
   "metadata": {
    "execution": {
     "iopub.execute_input": "2022-02-20T23:04:55.641660Z",
     "iopub.status.busy": "2022-02-20T23:04:55.641422Z",
     "iopub.status.idle": "2022-02-20T23:04:55.952814Z",
     "shell.execute_reply": "2022-02-20T23:04:55.888444Z",
     "shell.execute_reply.started": "2022-02-20T23:04:55.641634Z"
    },
    "tags": []
   },
   "outputs": [],
   "source": [
    "averageplot = x.groupby('hour', as_index=False)['trip_dist'].mean()"
   ]
  },
  {
   "cell_type": "code",
   "execution_count": 36,
   "metadata": {
    "execution": {
     "iopub.execute_input": "2022-02-20T23:04:59.704555Z",
     "iopub.status.busy": "2022-02-20T23:04:59.704310Z",
     "iopub.status.idle": "2022-02-20T23:05:00.215803Z",
     "shell.execute_reply": "2022-02-20T23:05:00.214694Z",
     "shell.execute_reply.started": "2022-02-20T23:04:59.704528Z"
    },
    "tags": []
   },
   "outputs": [
    {
     "data": {
      "text/plain": [
       "<matplotlib.legend.Legend at 0x7fc7623d45b0>"
      ]
     },
     "execution_count": 36,
     "metadata": {},
     "output_type": "execute_result"
    },
    {
     "data": {
      "image/png": "[encoded data removed]",
      "text/plain": [
       "<Figure size 720x576 with 1 Axes>"
      ]
     },
     "metadata": {
      "needs_background": "light"
     },
     "output_type": "display_data"
    }
   ],
   "source": [
    "averageplot.plot.bar(x='hour',y='trip_dist',color='lightblue',edgecolor='grey', figsize =(10,8))\n",
    "plt.gca().update(dict(title='Average ride length per pickup time hour of the day',\n",
    " xlabel= 'Hours', ylabel='Ride length Average'))\n",
    "plt.legend('')\n",
    "%matplot plt"
   ]
  },
  {
   "cell_type": "markdown",
   "metadata": {},
   "source": [
    "# Modelling \n",
    "### We are going to represent the data into two columns like spark is expecting : feature and label (high fare)\n",
    "#### At this point we are going to train the model only on 2million rows, on a data that was already cleaned (to avoid any emr crash we runned separatly preprocess and modelling, both on the EMR) "
   ]
  },
  {
   "cell_type": "code",
   "execution_count": 84,
   "metadata": {
    "execution": {
     "iopub.execute_input": "2022-02-20T23:05:09.222664Z",
     "iopub.status.busy": "2022-02-20T23:05:09.222424Z",
     "iopub.status.idle": "2022-02-20T23:07:48.259168Z",
     "shell.execute_reply": "2022-02-20T23:07:48.258400Z",
     "shell.execute_reply.started": "2022-02-20T23:05:09.222635Z"
    },
    "tags": []
   },
   "outputs": [
    {
     "data": {
      "application/vnd.jupyter.widget-view+json": {
       "model_id": "2ab439a1cdc242a393c972449332256d",
       "version_major": 2,
       "version_minor": 0
      },
      "text/plain": [
       "VBox()"
      ]
     },
     "metadata": {},
     "output_type": "display_data"
    },
    {
     "data": {
      "application/vnd.jupyter.widget-view+json": {
       "model_id": "",
       "version_major": 2,
       "version_minor": 0
      },
      "text/plain": [
       "FloatProgress(value=0.0, bar_style='info', description='Progress:', layout=Layout(height='25px', width='50%'),…"
      ]
     },
     "metadata": {},
     "output_type": "display_data"
    },
    {
     "name": "stdout",
     "output_type": "stream",
     "text": [
      "1998961"
     ]
    }
   ],
   "source": [
    "rows_wanted = 200000\n",
    "samp_size = rows_wanted*10/df12.count()\n",
    "modelling_df=df12.sample(False,samp_size,1)\n",
    "modelling_df.count()"
   ]
  },
  {
   "cell_type": "code",
   "execution_count": 4,
   "metadata": {
    "execution": {
     "iopub.execute_input": "2022-02-21T14:11:06.766085Z",
     "iopub.status.busy": "2022-02-21T14:11:06.765816Z",
     "iopub.status.idle": "2022-02-21T14:11:20.463047Z",
     "shell.execute_reply": "2022-02-21T14:11:20.462341Z",
     "shell.execute_reply.started": "2022-02-21T14:11:06.766054Z"
    }
   },
   "outputs": [
    {
     "data": {
      "application/vnd.jupyter.widget-view+json": {
       "model_id": "54964f206f1349d7b9d2e4f0aa20b118",
       "version_major": 2,
       "version_minor": 0
      },
      "text/plain": [
       "VBox()"
      ]
     },
     "metadata": {},
     "output_type": "display_data"
    },
    {
     "data": {
      "application/vnd.jupyter.widget-view+json": {
       "model_id": "",
       "version_major": 2,
       "version_minor": 0
      },
      "text/plain": [
       "FloatProgress(value=0.0, bar_style='info', description='Progress:', layout=Layout(height='25px', width='50%'),…"
      ]
     },
     "metadata": {},
     "output_type": "display_data"
    },
    {
     "name": "stdout",
     "output_type": "stream",
     "text": [
      "1999963"
     ]
    }
   ],
   "source": [
    "clean_data.count()"
   ]
  },
  {
   "cell_type": "code",
   "execution_count": 4,
   "metadata": {
    "execution": {
     "iopub.execute_input": "2022-02-21T14:25:30.971505Z",
     "iopub.status.busy": "2022-02-21T14:25:30.971247Z",
     "iopub.status.idle": "2022-02-21T14:25:31.973238Z",
     "shell.execute_reply": "2022-02-21T14:25:31.972345Z",
     "shell.execute_reply.started": "2022-02-21T14:25:30.971475Z"
    },
    "tags": []
   },
   "outputs": [
    {
     "data": {
      "application/vnd.jupyter.widget-view+json": {
       "model_id": "eaeddd514c9f4f378ac7c44be521c663",
       "version_major": 2,
       "version_minor": 0
      },
      "text/plain": [
       "VBox()"
      ]
     },
     "metadata": {},
     "output_type": "display_data"
    },
    {
     "data": {
      "application/vnd.jupyter.widget-view+json": {
       "model_id": "",
       "version_major": 2,
       "version_minor": 0
      },
      "text/plain": [
       "FloatProgress(value=0.0, bar_style='info', description='Progress:', layout=Layout(height='25px', width='50%'),…"
      ]
     },
     "metadata": {},
     "output_type": "display_data"
    }
   ],
   "source": [
    "from pyspark.ml.feature import VectorAssembler\n",
    "assembler = VectorAssembler(inputCols=['pickup_longitude', 'pickup_latitude', 'dropoff_longitude', 'dropoff_latitude',\n",
    "                                         'passenger_count', 'trip_dist','zerotofour','fivetoseven','eighttoeleven',\n",
    "                                         'twelvetofifteen','sixteentonineteen','twentytotthree','Low_Months','Middle_Months','High_Months'], outputCol='Features')\n",
    "model_data = assembler.transform(clean_data)"
   ]
  },
  {
   "cell_type": "code",
   "execution_count": 5,
   "metadata": {
    "execution": {
     "iopub.execute_input": "2022-02-21T14:25:34.557293Z",
     "iopub.status.busy": "2022-02-21T14:25:34.557036Z",
     "iopub.status.idle": "2022-02-21T14:25:36.040772Z",
     "shell.execute_reply": "2022-02-21T14:25:36.039957Z",
     "shell.execute_reply.started": "2022-02-21T14:25:34.557262Z"
    },
    "tags": []
   },
   "outputs": [
    {
     "data": {
      "application/vnd.jupyter.widget-view+json": {
       "model_id": "7d8a8d6f53994a679d60a496eeca53c6",
       "version_major": 2,
       "version_minor": 0
      },
      "text/plain": [
       "VBox()"
      ]
     },
     "metadata": {},
     "output_type": "display_data"
    },
    {
     "data": {
      "application/vnd.jupyter.widget-view+json": {
       "model_id": "",
       "version_major": 2,
       "version_minor": 0
      },
      "text/plain": [
       "FloatProgress(value=0.0, bar_style='info', description='Progress:', layout=Layout(height='25px', width='50%'),…"
      ]
     },
     "metadata": {},
     "output_type": "display_data"
    },
    {
     "name": "stdout",
     "output_type": "stream",
     "text": [
      "+--------------------+---------+\n",
      "|            Features|high_fare|\n",
      "+--------------------+---------+\n",
      "|(15,[0,1,2,3,4,5,...|      0.0|\n",
      "|(15,[0,1,2,3,4,5,...|      1.0|\n",
      "|(15,[0,1,2,3,4,5,...|      0.0|\n",
      "|(15,[0,1,2,3,4,5,...|      0.0|\n",
      "|(15,[0,1,2,3,4,5,...|      0.0|\n",
      "+--------------------+---------+\n",
      "only showing top 5 rows"
     ]
    }
   ],
   "source": [
    "model_data.select('Features','high_fare').show(5)"
   ]
  },
  {
   "cell_type": "markdown",
   "metadata": {},
   "source": [
    "### Splitting the data into 80% Train & 20% Cross validation "
   ]
  },
  {
   "cell_type": "code",
   "execution_count": 6,
   "metadata": {
    "execution": {
     "iopub.execute_input": "2022-02-21T14:25:38.441390Z",
     "iopub.status.busy": "2022-02-21T14:25:38.441133Z",
     "iopub.status.idle": "2022-02-21T14:25:38.840845Z",
     "shell.execute_reply": "2022-02-21T14:25:38.840169Z",
     "shell.execute_reply.started": "2022-02-21T14:25:38.441360Z"
    },
    "tags": []
   },
   "outputs": [
    {
     "data": {
      "application/vnd.jupyter.widget-view+json": {
       "model_id": "5d5adc1a8bae421abe9d9f217c1c9e10",
       "version_major": 2,
       "version_minor": 0
      },
      "text/plain": [
       "VBox()"
      ]
     },
     "metadata": {},
     "output_type": "display_data"
    },
    {
     "data": {
      "application/vnd.jupyter.widget-view+json": {
       "model_id": "",
       "version_major": 2,
       "version_minor": 0
      },
      "text/plain": [
       "FloatProgress(value=0.0, bar_style='info', description='Progress:', layout=Layout(height='25px', width='50%'),…"
      ]
     },
     "metadata": {},
     "output_type": "display_data"
    }
   ],
   "source": [
    "(trainingData, testData) = model_data.randomSplit([0.8, 0.2])"
   ]
  },
  {
   "cell_type": "markdown",
   "metadata": {},
   "source": [
    "## Training the models on 2 millions rows\n",
    "### Logistic regression with 2 million rows"
   ]
  },
  {
   "cell_type": "code",
   "execution_count": 14,
   "metadata": {
    "execution": {
     "iopub.execute_input": "2022-02-21T14:27:24.897067Z",
     "iopub.status.busy": "2022-02-21T14:27:24.896800Z",
     "iopub.status.idle": "2022-02-21T14:27:25.090245Z",
     "shell.execute_reply": "2022-02-21T14:27:25.089300Z",
     "shell.execute_reply.started": "2022-02-21T14:27:24.897036Z"
    },
    "tags": []
   },
   "outputs": [
    {
     "data": {
      "application/vnd.jupyter.widget-view+json": {
       "model_id": "a64b18464305475fba5c6cc2b9abf4bd",
       "version_major": 2,
       "version_minor": 0
      },
      "text/plain": [
       "VBox()"
      ]
     },
     "metadata": {},
     "output_type": "display_data"
    },
    {
     "data": {
      "application/vnd.jupyter.widget-view+json": {
       "model_id": "",
       "version_major": 2,
       "version_minor": 0
      },
      "text/plain": [
       "FloatProgress(value=0.0, bar_style='info', description='Progress:', layout=Layout(height='25px', width='50%'),…"
      ]
     },
     "metadata": {},
     "output_type": "display_data"
    }
   ],
   "source": [
    "from pyspark.ml import Pipeline\n",
    "from pyspark.ml.classification import LogisticRegression\n",
    "from pyspark.ml.evaluation import BinaryClassificationEvaluator\n",
    "from pyspark.ml.feature import HashingTF, Tokenizer\n",
    "from pyspark.ml.tuning import CrossValidator, ParamGridBuilder\n",
    "from pyspark.ml.classification import LogisticRegression\n",
    "evaluator = BinaryClassificationEvaluator(labelCol='high_fare', metricName='areaUnderROC')\n"
   ]
  },
  {
   "cell_type": "markdown",
   "metadata": {},
   "source": [
    "### Logistic regression with grid search and crossval"
   ]
  },
  {
   "cell_type": "code",
   "execution_count": 8,
   "metadata": {
    "execution": {
     "iopub.execute_input": "2022-02-21T14:12:48.203442Z",
     "iopub.status.busy": "2022-02-21T14:12:48.203054Z",
     "iopub.status.idle": "2022-02-21T14:22:49.614551Z",
     "shell.execute_reply": "2022-02-21T14:22:49.613762Z",
     "shell.execute_reply.started": "2022-02-21T14:12:48.203407Z"
    },
    "tags": []
   },
   "outputs": [
    {
     "data": {
      "application/vnd.jupyter.widget-view+json": {
       "model_id": "5df048e2a505432aabcb0b45dd1c492f",
       "version_major": 2,
       "version_minor": 0
      },
      "text/plain": [
       "VBox()"
      ]
     },
     "metadata": {},
     "output_type": "display_data"
    },
    {
     "data": {
      "application/vnd.jupyter.widget-view+json": {
       "model_id": "",
       "version_major": 2,
       "version_minor": 0
      },
      "text/plain": [
       "FloatProgress(value=0.0, bar_style='info', description='Progress:', layout=Layout(height='25px', width='50%'),…"
      ]
     },
     "metadata": {},
     "output_type": "display_data"
    },
    {
     "name": "stdout",
     "output_type": "stream",
     "text": [
      "Accuracy: 0.9259473987890336"
     ]
    }
   ],
   "source": [
    "#%%time\n",
    "from pyspark.ml import Pipeline\n",
    "from pyspark.ml.classification import LogisticRegression\n",
    "from pyspark.ml.evaluation import BinaryClassificationEvaluator\n",
    "from pyspark.ml.feature import HashingTF, Tokenizer\n",
    "from pyspark.ml.tuning import CrossValidator, ParamGridBuilder\n",
    "from pyspark.ml.classification import LogisticRegression\n",
    "\n",
    "evaluator = BinaryClassificationEvaluator(labelCol='high_fare', metricName='areaUnderROC')\n",
    "algo = LogisticRegression(featuresCol='Features', labelCol='high_fare')\n",
    "\n",
    "\n",
    "paramGrid = ParamGridBuilder() \\\n",
    "    .addGrid(algo.maxIter, [5, 10, 15]) \\\n",
    "    .addGrid(algo.regParam, [0.3, 0.5]) \\\n",
    "    .addGrid(algo.elasticNetParam, [0.5, 0.6, 0.8]) \\\n",
    "    .build()\n",
    "\n",
    "cross_val = CrossValidator(estimator=algo,\n",
    "                           estimatorParamMaps=paramGrid,\n",
    "                           evaluator=evaluator,\n",
    "                           numFolds=3)\n",
    "lrModel = cross_val.fit(trainingData)\n",
    "\n",
    "predictions = lrModel.transform(testData)\n",
    "# predictions.select(['high_fare','prediction', 'probability']).show()\n",
    "\n",
    "evaluator = BinaryClassificationEvaluator(labelCol='high_fare', metricName='areaUnderROC')\n",
    "\n",
    "accuracy = evaluator.evaluate(predictions)\n",
    "\n",
    "print('Accuracy:', accuracy)"
   ]
  },
  {
   "cell_type": "markdown",
   "metadata": {},
   "source": [
    "## Decision Tree with grid search & crossvalidation"
   ]
  },
  {
   "cell_type": "code",
   "execution_count": 15,
   "metadata": {
    "execution": {
     "iopub.execute_input": "2022-02-21T14:27:27.959961Z",
     "iopub.status.busy": "2022-02-21T14:27:27.959712Z",
     "iopub.status.idle": "2022-02-21T14:34:43.181377Z",
     "shell.execute_reply": "2022-02-21T14:34:43.180614Z",
     "shell.execute_reply.started": "2022-02-21T14:27:27.959931Z"
    },
    "tags": []
   },
   "outputs": [
    {
     "data": {
      "application/vnd.jupyter.widget-view+json": {
       "model_id": "813e54bfe4794dc9aa40b0420108b04c",
       "version_major": 2,
       "version_minor": 0
      },
      "text/plain": [
       "VBox()"
      ]
     },
     "metadata": {},
     "output_type": "display_data"
    },
    {
     "data": {
      "application/vnd.jupyter.widget-view+json": {
       "model_id": "",
       "version_major": 2,
       "version_minor": 0
      },
      "text/plain": [
       "FloatProgress(value=0.0, bar_style='info', description='Progress:', layout=Layout(height='25px', width='50%'),…"
      ]
     },
     "metadata": {},
     "output_type": "display_data"
    },
    {
     "name": "stdout",
     "output_type": "stream",
     "text": [
      "Accuracy: 0.8783053195123666"
     ]
    }
   ],
   "source": [
    "#%%time\n",
    "\n",
    "from pyspark.ml.classification import DecisionTreeClassifier\n",
    "algo1 = DecisionTreeClassifier(featuresCol='Features', labelCol='high_fare')\n",
    "\n",
    "paramGrid = ParamGridBuilder() \\\n",
    "    .addGrid(algo1.maxDepth, [2, 5, 10, 15]) \\\n",
    "    .addGrid(algo1.maxBins, [5, 10]) \\\n",
    "    .addGrid(algo1.impurity, ['entropy','gini']) \\\n",
    "    .build()\n",
    "\n",
    "cross_valdt = CrossValidator(estimator=algo1,\n",
    "                           estimatorParamMaps=paramGrid,\n",
    "                           evaluator=evaluator,\n",
    "                           numFolds=3)\n",
    "\n",
    "dtModel = cross_valdt.fit(trainingData)\n",
    "predictions1 = dtModel.transform(testData)\n",
    "\n",
    "\n",
    "accuracy1 = evaluator.evaluate(predictions1)\n",
    "\n",
    "print('Accuracy:', accuracy1)"
   ]
  },
  {
   "cell_type": "markdown",
   "metadata": {},
   "source": [
    "## Decision Tree with With maxDepth 10 and maxbins 10 "
   ]
  },
  {
   "cell_type": "code",
   "execution_count": 16,
   "metadata": {
    "execution": {
     "iopub.execute_input": "2022-02-21T14:35:15.965407Z",
     "iopub.status.busy": "2022-02-21T14:35:15.964950Z",
     "iopub.status.idle": "2022-02-21T14:36:06.161998Z",
     "shell.execute_reply": "2022-02-21T14:36:06.161109Z",
     "shell.execute_reply.started": "2022-02-21T14:35:15.965370Z"
    },
    "tags": []
   },
   "outputs": [
    {
     "data": {
      "application/vnd.jupyter.widget-view+json": {
       "model_id": "c3a2994abaac4c6686d6b89278bd1477",
       "version_major": 2,
       "version_minor": 0
      },
      "text/plain": [
       "VBox()"
      ]
     },
     "metadata": {},
     "output_type": "display_data"
    },
    {
     "data": {
      "application/vnd.jupyter.widget-view+json": {
       "model_id": "",
       "version_major": 2,
       "version_minor": 0
      },
      "text/plain": [
       "FloatProgress(value=0.0, bar_style='info', description='Progress:', layout=Layout(height='25px', width='50%'),…"
      ]
     },
     "metadata": {},
     "output_type": "display_data"
    },
    {
     "name": "stdout",
     "output_type": "stream",
     "text": [
      "Accuracy: 0.8007287005295289"
     ]
    }
   ],
   "source": [
    "#%%time\n",
    "\n",
    "from pyspark.ml.classification import DecisionTreeClassifier\n",
    "algo2 = DecisionTreeClassifier(featuresCol='Features', labelCol='high_fare', maxDepth=10, maxBins = 10)\n",
    "dtModel = algo2.fit(trainingData)\n",
    "predictions2 = dtModel.transform(testData)\n",
    "\n",
    "accuracy2 = evaluator.evaluate(predictions2)\n",
    "\n",
    "print('Accuracy:', accuracy2)"
   ]
  },
  {
   "cell_type": "markdown",
   "metadata": {
    "tags": []
   },
   "source": [
    "## Random forest with grid search"
   ]
  },
  {
   "cell_type": "code",
   "execution_count": 17,
   "metadata": {
    "execution": {
     "iopub.execute_input": "2022-02-21T14:36:26.854198Z",
     "iopub.status.busy": "2022-02-21T14:36:26.853874Z",
     "iopub.status.idle": "2022-02-21T15:28:48.243549Z",
     "shell.execute_reply": "2022-02-21T15:28:48.242750Z",
     "shell.execute_reply.started": "2022-02-21T14:36:26.854166Z"
    },
    "tags": []
   },
   "outputs": [
    {
     "data": {
      "application/vnd.jupyter.widget-view+json": {
       "model_id": "17b4337657bd40368d5040b0f42427d7",
       "version_major": 2,
       "version_minor": 0
      },
      "text/plain": [
       "VBox()"
      ]
     },
     "metadata": {},
     "output_type": "display_data"
    },
    {
     "data": {
      "application/vnd.jupyter.widget-view+json": {
       "model_id": "",
       "version_major": 2,
       "version_minor": 0
      },
      "text/plain": [
       "FloatProgress(value=0.0, bar_style='info', description='Progress:', layout=Layout(height='25px', width='50%'),…"
      ]
     },
     "metadata": {},
     "output_type": "display_data"
    },
    {
     "name": "stdout",
     "output_type": "stream",
     "text": [
      "Accuracy 0.9403344794001313"
     ]
    }
   ],
   "source": [
    "#%%time\n",
    "from pyspark.ml.classification import RandomForestClassifier\n",
    "algo3 = RandomForestClassifier(featuresCol='Features', labelCol='high_fare')\n",
    "\n",
    "\n",
    "paramGrid = ParamGridBuilder() \\\n",
    "    .addGrid(algo3.maxDepth, [5, 10, 15]) \\\n",
    "    .addGrid(algo3.numTrees, [10, 15, 20]) \\\n",
    "    .addGrid(algo3.impurity, ['entropy','gini']) \\\n",
    "    .build()\n",
    "\n",
    "cross_valdt = CrossValidator(estimator=algo3,\n",
    "                           estimatorParamMaps=paramGrid,\n",
    "                           evaluator=evaluator,\n",
    "                           numFolds=3)\n",
    "\n",
    "\n",
    "\n",
    "rfcModel = cross_valdt.fit(trainingData)\n",
    "predictions3 = rfcModel.transform(testData)\n",
    "accuracy3 = evaluator.evaluate(predictions3)\n",
    "\n",
    "print('Accuracy', accuracy3)\n"
   ]
  },
  {
   "cell_type": "markdown",
   "metadata": {
    "tags": []
   },
   "source": [
    "# Random forest without crossval"
   ]
  },
  {
   "cell_type": "code",
   "execution_count": 18,
   "metadata": {
    "execution": {
     "iopub.execute_input": "2022-02-21T15:33:42.619915Z",
     "iopub.status.busy": "2022-02-21T15:33:42.619658Z",
     "iopub.status.idle": "2022-02-21T15:34:42.961867Z",
     "shell.execute_reply": "2022-02-21T15:34:42.961108Z",
     "shell.execute_reply.started": "2022-02-21T15:33:42.619884Z"
    },
    "tags": []
   },
   "outputs": [
    {
     "data": {
      "application/vnd.jupyter.widget-view+json": {
       "model_id": "8c6eeb1fad254bef92aa985f38582fd9",
       "version_major": 2,
       "version_minor": 0
      },
      "text/plain": [
       "VBox()"
      ]
     },
     "metadata": {},
     "output_type": "display_data"
    },
    {
     "data": {
      "application/vnd.jupyter.widget-view+json": {
       "model_id": "",
       "version_major": 2,
       "version_minor": 0
      },
      "text/plain": [
       "FloatProgress(value=0.0, bar_style='info', description='Progress:', layout=Layout(height='25px', width='50%'),…"
      ]
     },
     "metadata": {},
     "output_type": "display_data"
    },
    {
     "name": "stdout",
     "output_type": "stream",
     "text": [
      "Accuracy 0.8884494687411428"
     ]
    }
   ],
   "source": [
    "#%%time\n",
    "from pyspark.ml.classification import RandomForestClassifier\n",
    "algo4 = RandomForestClassifier(featuresCol='Features', labelCol='high_fare', numTrees=10, maxDepth=5)\n",
    "rfModel = algo4.fit(trainingData)\n",
    "predictions4 = rfModel.transform(testData)\n",
    "\n",
    "accuracy4 = evaluator.evaluate(predictions4)\n",
    "\n",
    "print('Accuracy', accuracy4)\n"
   ]
  },
  {
   "cell_type": "markdown",
   "metadata": {},
   "source": [
    "## Gradient boosting tree with pipeline and indexer"
   ]
  },
  {
   "cell_type": "code",
   "execution_count": 19,
   "metadata": {
    "execution": {
     "iopub.execute_input": "2022-02-21T15:38:11.934614Z",
     "iopub.status.busy": "2022-02-21T15:38:11.934134Z",
     "iopub.status.idle": "2022-02-21T15:39:38.496569Z",
     "shell.execute_reply": "2022-02-21T15:39:38.495384Z",
     "shell.execute_reply.started": "2022-02-21T15:38:11.934561Z"
    },
    "tags": []
   },
   "outputs": [
    {
     "data": {
      "application/vnd.jupyter.widget-view+json": {
       "model_id": "bb4c8dffe59e404bb5715bc7c3cff193",
       "version_major": 2,
       "version_minor": 0
      },
      "text/plain": [
       "VBox()"
      ]
     },
     "metadata": {},
     "output_type": "display_data"
    },
    {
     "data": {
      "application/vnd.jupyter.widget-view+json": {
       "model_id": "",
       "version_major": 2,
       "version_minor": 0
      },
      "text/plain": [
       "FloatProgress(value=0.0, bar_style='info', description='Progress:', layout=Layout(height='25px', width='50%'),…"
      ]
     },
     "metadata": {},
     "output_type": "display_data"
    },
    {
     "name": "stdout",
     "output_type": "stream",
     "text": [
      "Accuracy 0.9352387699718184"
     ]
    }
   ],
   "source": [
    "#%%time\n",
    "from pyspark.ml.feature import VectorAssembler\n",
    "from pyspark.ml import Pipeline\n",
    "from pyspark.ml.classification import GBTClassifier\n",
    "from pyspark.ml.feature import StringIndexer, VectorIndexer\n",
    "from pyspark.ml.evaluation import MulticlassClassificationEvaluator\n",
    "\n",
    "# Index labels, adding metadata to the label column.\n",
    "# Fit on whole dataset to include all labels in index.\n",
    "# Automatically identify categorical features, and index them.\n",
    "labelIndexer = StringIndexer(inputCol=\"high_fare\", outputCol=\"indexedLabel\").fit(model_data)\n",
    "# Set maxCategories so features with > 4 distinct values are treated as continuous.\n",
    "featureIndexer =\\\n",
    "    VectorIndexer(inputCol=\"Features\", outputCol=\"indexedFeatures\", maxCategories=4).fit(model_data)\n",
    "\n",
    "gbt = GBTClassifier(labelCol=\"indexedLabel\", featuresCol=\"indexedFeatures\", maxIter=10)\n",
    "\n",
    "\n",
    "# Chain indexers and GBT in a Pipeline\n",
    "pipeline = Pipeline(stages=[labelIndexer, featureIndexer, gbt])\n",
    "\n",
    "# Train model.  This also runs the indexers.\n",
    "modelgbt = pipeline.fit(trainingData)\n",
    "\n",
    "# Make predictions.\n",
    "predictions5 = modelgbt.transform(testData)\n",
    "\n",
    "accuracy5 = evaluator.evaluate(predictions5)\n",
    "\n",
    "print('Accuracy', accuracy5)"
   ]
  },
  {
   "cell_type": "markdown",
   "metadata": {},
   "source": [
    "## Selecting the best model "
   ]
  },
  {
   "cell_type": "markdown",
   "metadata": {},
   "source": [
    "We will select the random forest model with grid search, it perform the best"
   ]
  },
  {
   "cell_type": "markdown",
   "metadata": {},
   "source": [
    "## Final function (For kaggle purpose, no need to run it) "
   ]
  },
  {
   "cell_type": "code",
   "execution_count": null,
   "metadata": {},
   "outputs": [
    {
     "name": "stdout",
     "output_type": "stream",
     "text": [
      "root\n",
      " |-- key: integer (nullable = true)\n",
      " |-- pickup_datetime: string (nullable = true)\n",
      " |-- pickup_longitude: double (nullable = true)\n",
      " |-- pickup_latitude: double (nullable = true)\n",
      " |-- dropoff_longitude: double (nullable = true)\n",
      " |-- dropoff_latitude: double (nullable = true)\n",
      " |-- passenger_count: integer (nullable = true)\n",
      "\n"
     ]
    }
   ],
   "source": [
    "# test_set.printSchema()"
   ]
  },
  {
   "cell_type": "code",
   "execution_count": 68,
   "metadata": {},
   "outputs": [],
   "source": [
    "# testData1 = test_set.withColumn('pickup_date_time', F.to_timestamp(test_set.pickup_datetime))\n",
    "# from math import cos, asin, sqrt, pi\n",
    "# #Creating a distance function based on coordinates\n",
    "# def distance(lat1, lon1, lat2, lon2):\n",
    "#     p = pi/180\n",
    "#     a = 0.5 - cos((lat2-lat1)*p)/2 + cos(lat1*p) * cos(lat2*p) * (1-cos((lon2-lon1)*p))/2\n",
    "#     return 12742 * asin(sqrt(a)) #2*R*asin...\n",
    "\n",
    "# my_udf = F.udf(distance)\n",
    "\n",
    "# testData1 = testData1.withColumn('trip_dist', my_udf('pickup_latitude','pickup_longitude','dropoff_latitude','dropoff_longitude'))\n",
    "\n",
    "# #Changing the type of trip_dist to double (forgot to do it before)\n",
    "# testData1 = testData1.withColumn('trip_dist',testData1.trip_dist.cast('double'))\n",
    "\n",
    "# testData1 = testData1.withColumn(\"pickup_date_time\",to_timestamp(\"pickup_date_time\")).withColumn(\"year\",\n",
    "#   year(col(\"pickup_date_time\"))\n",
    "# ).withColumn(\n",
    "#   \"month\",\n",
    "#   month(col(\"pickup_date_time\"))\n",
    "# ).withColumn(\n",
    "#   \"day\",\n",
    "#   dayofmonth(col(\"pickup_date_time\"))\n",
    "# ).withColumn(\"hour\",\n",
    "#   hour(col(\"pickup_date_time\"))\n",
    "# ).withColumn(\"weekday\",\n",
    "#   dayofweek(col(\"pickup_date_time\"))\n",
    "# )\n",
    "\n",
    "\n",
    "# ### One hot encoding for week day \n",
    "\n",
    "# testData1 = testData1.withColumn('zerotofour', \n",
    "#     when((testData1.hour <= 4), lit('1'))\n",
    "#     .otherwise(lit('0')))\n",
    "\n",
    "# testData1 = testData1.withColumn('fivetoseven', \n",
    "#     F.when((testData1.hour > 4) & (testData1.hour <=7), lit('1'))\n",
    "#     .otherwise(lit('0')))\n",
    "\n",
    "# testData1 = testData1.withColumn('eighttoeleven', \n",
    "#     F.when((testData1.hour > 8) & (testData1.hour <=11), lit('1'))\n",
    "#     .otherwise(lit('0')))\n",
    "    \n",
    "# testData1 = testData1.withColumn('twelvetofifteen', \n",
    "#     F.when((testData1.hour > 12) & (testData1.hour <=15), lit('1'))\n",
    "#     .otherwise(lit('0')))\n",
    "\n",
    "# testData1 = testData1.withColumn('sixteentonineteen', \n",
    "#     F.when((testData1.hour > 16) & (testData1.hour <=19), lit('1'))\n",
    "#     .otherwise(lit('0')))\n",
    "\n",
    "# testData1 = testData1.withColumn('twentytotthree', \n",
    "#     F.when((testData1.hour > 20) & (testData1.hour <=23), lit('1'))\n",
    "#     .otherwise(lit('0')))\n",
    "\n",
    "#     # One hot encoding for months    \n",
    "# testData1 = testData1.withColumn('Low_Months', \n",
    "#     when((testData1.month == 7) | (testData1.month == 8) | (testData1.month == 9), lit('1'))\n",
    "#     .otherwise(lit('0')))\n",
    "\n",
    "# testData1 = testData1.withColumn('Middle_Months', \n",
    "#     when((testData1.month == 2) | (testData1.month == 10) | (testData1.month == 11) | (testData1.month == 12) , lit('1'))\n",
    "#     .otherwise(lit('0')))\n",
    "\n",
    "# testData1 = testData1.withColumn('High_Months', \n",
    "#     when((testData1.month == 1) | (testData1.month == 3) | (testData1.month == 4) | (testData1.month == 5) | (testData1.month == 6) , lit('1'))\n",
    "#     .otherwise(lit('0')))\n",
    "\n",
    "# testData1 = testData1.withColumn('zerotofour',testData1.zerotofour.cast('double'))\n",
    "# testData1 = testData1.withColumn('fivetoseven',testData1.fivetoseven.cast('double'))\n",
    "\n",
    "# testData1 = testData1.withColumn('eighttoeleven',testData1.eighttoeleven.cast('double'))\n",
    "\n",
    "# testData1 = testData1.withColumn('twelvetofifteen',testData1.twelvetofifteen.cast('double'))\n",
    "\n",
    "# testData1 = testData1.withColumn('sixteentonineteen',testData1.sixteentonineteen.cast('double'))\n",
    "\n",
    "# testData1 = testData1.withColumn('twentytotthree',testData1.twentytotthree.cast('double'))\n",
    "\n",
    "# testData1 = testData1.withColumn('Low_Months',testData1.Low_Months.cast('double'))\n",
    "\n",
    "# testData1 = testData1.withColumn('Middle_Months',testData1.Middle_Months.cast('double'))\n",
    "\n",
    "# testData1 = testData1.withColumn('High_Months',testData1.High_Months.cast('double'))\n",
    "\n",
    "# testData1 = testData1.drop('pickup_datetime')\n",
    "\n",
    "# from pyspark.ml.feature import VectorAssembler\n",
    "# assembler = VectorAssembler(inputCols=['pickup_longitude', 'pickup_latitude', 'dropoff_longitude', 'dropoff_latitude',\n",
    "#                                          'passenger_count', 'trip_dist','zerotofour','fivetoseven','eighttoeleven',\n",
    "#                                          'twelvetofifteen','sixteentonineteen','twentytotthree','Low_Months','Middle_Months','High_Months'], outputCol='Features')\n",
    "# testkaggle = assembler.transform(testData1)\n",
    "\n"
   ]
  },
  {
   "cell_type": "code",
   "execution_count": null,
   "metadata": {
    "execution": {
     "iopub.status.busy": "2022-02-20T22:56:52.260020Z",
     "iopub.status.idle": "2022-02-20T22:56:52.260412Z",
     "shell.execute_reply": "2022-02-20T22:56:52.260227Z"
    }
   },
   "outputs": [],
   "source": [
    "# # Predictions on test set \n",
    "# predictionRFC = rfcModel.transform(testkaggle)\n",
    "\n",
    "# predictionRFC.select('key','rawPrediction').show()\n",
    "# to_print_kaggle = predictionRFC.withColumnRenamed('prediction','high_fare')\n",
    "# to_print_kaggle = to_print_kaggle.select('key','high_fare')\n",
    "# to_print_kaggle.toPandas().to_csv('random_forest_clf_k11.csv')"
   ]
  },
  {
   "cell_type": "code",
   "execution_count": null,
   "metadata": {},
   "outputs": [
    {
     "name": "stderr",
     "output_type": "stream",
     "text": [
      "22/02/08 13:58:38 WARN StringIndexerModel: Input column high_fare does not exist during transformation. Skip StringIndexerModel for this column.\n"
     ]
    }
   ],
   "source": [
    "# predictionGBT = modelgbt.transform(testkaggle)\n",
    "\n",
    "# to_print_kaggle1 = predictionGBT.withColumnRenamed('prediction','high_fare')\n",
    "# to_print_kaggle1 = to_print_kaggle1.select('key','high_fare')\n",
    "# to_print_kaggle1.toPandas().to_csv('gradient_boost_kag1.csv')"
   ]
  },
  {
   "cell_type": "code",
   "execution_count": 69,
   "metadata": {},
   "outputs": [],
   "source": [
    "# resultMPC_kaggle = modelMPC.transform(testkaggle)"
   ]
  },
  {
   "cell_type": "code",
   "execution_count": 76,
   "metadata": {},
   "outputs": [],
   "source": [
    "# to_res_kag = resultMPC_kaggle.withColumnRenamed('prediction','high_fare')"
   ]
  },
  {
   "cell_type": "code",
   "execution_count": 77,
   "metadata": {},
   "outputs": [
    {
     "data": {
      "text/plain": [
       "DataFrame[key: int, high_fare: double]"
      ]
     },
     "execution_count": 77,
     "metadata": {},
     "output_type": "execute_result"
    }
   ],
   "source": [
    "# to_res_kag = to_res_kag.select('key','high_fare')"
   ]
  },
  {
   "cell_type": "code",
   "execution_count": null,
   "metadata": {
    "execution": {
     "iopub.status.busy": "2022-02-20T22:56:52.261837Z",
     "iopub.status.idle": "2022-02-20T22:56:52.262190Z",
     "shell.execute_reply": "2022-02-20T22:56:52.262017Z"
    }
   },
   "outputs": [],
   "source": [
    "# to_res_kag.toPandas()"
   ]
  },
  {
   "cell_type": "code",
   "execution_count": null,
   "metadata": {
    "execution": {
     "iopub.status.busy": "2022-02-20T22:56:52.263700Z",
     "iopub.status.idle": "2022-02-20T22:56:52.264163Z",
     "shell.execute_reply": "2022-02-20T22:56:52.263987Z"
    }
   },
   "outputs": [],
   "source": [
    "# resultMPC_kaggle = modelMPC.transform(testkaggle)\n",
    "# to_print_kaggle3 = resultMPC_kaggle.withColumnRenamed('prediction','high_fare')\n",
    "# to_print_kaggle3 = to_print_kaggle3.select('key','high_fare')\n",
    "# to_print_kaggle3.toPandas().to_csv('MPC_K1.csv')"
   ]
  },
  {
   "cell_type": "code",
   "execution_count": null,
   "metadata": {},
   "outputs": [],
   "source": []
  }
 ],
 "metadata": {
  "interpreter": {
   "hash": "40d3a090f54c6569ab1632332b64b2c03c39dcf918b08424e98f38b5ae0af88f"
  },
  "kernelspec": {
   "display_name": "PySpark",
   "language": "python",
   "name": "python3"
  },
  "language_info": {
   "codemirror_mode": {
    "name": "python",
    "version": 2
   },
   "mimetype": "text/x-python",
   "name": "python",
   "pygments_lexer": "python2",
   "version": "3.8.12"
  }
 },
 "nbformat": 4,
 "nbformat_minor": 4
}
